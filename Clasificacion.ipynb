{
 "cells": [
  {
   "cell_type": "code",
   "execution_count": 2,
   "metadata": {},
   "outputs": [],
   "source": [
    "import pandas as pd\n",
    "import numpy as np\n",
    "import scipy as sp"
   ]
  },
  {
   "cell_type": "code",
   "execution_count": 3,
   "metadata": {},
   "outputs": [],
   "source": [
    "datos = pd.read_excel('datos_socioeconomicos_ingresantes.xlsx',skiprows=[0,1] )"
   ]
  },
  {
   "cell_type": "code",
   "execution_count": 4,
   "metadata": {},
   "outputs": [],
   "source": [
    "columnas = ['nombre_carrera', 'sexo', 'obra_social', 'madre_trabajo', 'madre_vive', 'padre_trabajo', \n",
    "            'padre_vive', 'trabajo', 'horas_sem_trabajo', 'padre_ult_est_curs', \n",
    "            'madre_ult_est_curs', 'nota_matematica', 'matcursprisem','cantmataprob_al_21-10-2017',\n",
    "            'dep_practica', 'idioma_ingles', 'idioma_franc', 'idioma_portu', 'idioma_itali', 'idioma_aleman']"
   ]
  },
  {
   "cell_type": "code",
   "execution_count": 5,
   "metadata": {},
   "outputs": [],
   "source": [
    "datos = datos[columnas]"
   ]
  },
  {
   "cell_type": "markdown",
   "metadata": {},
   "source": [
    "    nombre_carrera= se tranformó a código numérico - sin Nans\n",
    "    sexo= se binarizó - sin Nans\n",
    "    matcursprisem= se transformó a números - sin Nans\n",
    "    cantmataprob...= se transformó a números - sin Nans\n",
    "\n",
    "    obra_social= vectorización(binario) - 9 Nans\n",
    "    madre_trabajo= vectorización(binario) - 492 Nans\n",
    "    padre_trabajo= vectorización(binario) - 590 Nans\n",
    "    trabajo= vectorización(binario) - 5 Nans\n",
    "\n",
    "    horas_sem_trabajo= vectorización(binario) - 2199 Nans\n",
    "\n",
    "    madre_vive= binarización - 4 Nans\n",
    "    padre_vive= binarización - 5 Nans\n",
    "    padre_ult_est_curs= vectorización - 7 Nans\n",
    "    madre_ult_est_curs= vectorización - 5 Nans\n",
    "    dep_practica= binarización 1 Nan\n",
    "    idioma_ingles = 0, 1, 2 (categórica ordinal) - sin Nans\n",
    "\n",
    "    nota_matematica = 1088 Nans \n",
    "\n",
    "Tratamiento de los nulos:\n",
    "\n",
    " - Se eliminan los nulos de 'madre_vive','padre_vive','padre_ult_est_curs','madre_ult_est_curs', 'dep_practica','trabajo', 'obra_social'\n",
    " - Para las variables madre_trabajo y padre_trabajo, se transforman los nulos en la categoría Desconoce.\n",
    " - Para la variable nota_matemática, se transforman los nulos en no aprobados.\n",
    " - La variable cantidad de horas de trabajo tiene 56 nulos que se corresponden con la categoría:\"trabajó al menos una hora\" de la variable trabajo (eso es el 10% de la población total que trabaja). Por otro lado, todos los que tienen un valor en la variable \"horas de trabajo\" pertenecen a la categoría \"trabajó al menos una hora\", así que eso es coherente.  "
   ]
  },
  {
   "cell_type": "markdown",
   "metadata": {},
   "source": [
    "#### Sacar los nulls de columnas: madre_vive, padre_vive, padre_ult_est_curs, madre_ult_est_curs y dep_practica, trabajo, obra social"
   ]
  },
  {
   "cell_type": "code",
   "execution_count": 6,
   "metadata": {},
   "outputs": [],
   "source": [
    "datos_null = datos.dropna(subset=['madre_vive','padre_vive','padre_ult_est_curs','madre_ult_est_curs',\n",
    "                                  'dep_practica','trabajo', 'obra_social'])"
   ]
  },
  {
   "cell_type": "markdown",
   "metadata": {},
   "source": [
    "#### Transformar nota matematica a 1(aprobado) 0 (no aprobado)"
   ]
  },
  {
   "cell_type": "code",
   "execution_count": 7,
   "metadata": {},
   "outputs": [],
   "source": [
    "def trans_matem(val):\n",
    "    if val==\"A\":\n",
    "        return(1)\n",
    "    return(0)"
   ]
  },
  {
   "cell_type": "code",
   "execution_count": 8,
   "metadata": {},
   "outputs": [
    {
     "name": "stderr",
     "output_type": "stream",
     "text": [
      "/home/lucia/anaconda3/envs/diplodatos/lib/python3.7/site-packages/pandas/core/generic.py:5209: SettingWithCopyWarning: \n",
      "A value is trying to be set on a copy of a slice from a DataFrame.\n",
      "Try using .loc[row_indexer,col_indexer] = value instead\n",
      "\n",
      "See the caveats in the documentation: http://pandas.pydata.org/pandas-docs/stable/user_guide/indexing.html#returning-a-view-versus-a-copy\n",
      "  self[name] = value\n"
     ]
    }
   ],
   "source": [
    "datos_null.nota_matematica=datos_null.nota_matematica.apply(trans_matem)"
   ]
  },
  {
   "cell_type": "markdown",
   "metadata": {},
   "source": [
    "#### Transformar categorías de estudios padre madre en números."
   ]
  },
  {
   "cell_type": "code",
   "execution_count": 9,
   "metadata": {},
   "outputs": [],
   "source": [
    "#definir números para las categorías. Es el agrupamiento que hacen en el anuario UNC\n",
    "def from_estudio_s(value):\n",
    "    if 'de postgrado' in value.lower():\n",
    "        #return 'postgrado'\n",
    "        return 4\n",
    "    if 'universitarios completos' in value.lower():\n",
    "        #return 'univ_completos'\n",
    "        return 4\n",
    "    if 'universitarios incompletos' in value.lower():\n",
    "        #return 'univ_incompleto'\n",
    "        return 4\n",
    "    if 'superiores completos' in value.lower():\n",
    "        #return 'sup_completo'\n",
    "        return 4\n",
    "    if 'superiores incompletos' in value.lower():\n",
    "        #return 'sup_incompleto'\n",
    "        return 4\n",
    "    if 'secundarios completos' in value.lower():\n",
    "        #return 'sec_completo'\n",
    "        return 3\n",
    "    if 'secundarios incompletos' in value.lower() or 'primarios completos' in value.lower():\n",
    "        #return 'primario_completo-sec_inc'\n",
    "        return 2\n",
    "    if 'primarios incompletos' in value.lower() or 'no hizo estudios' in value.lower():\n",
    "        #return 'primario_inc-sin_estudios'\n",
    "        return 1\n",
    "    #return 'Desconoce'\n",
    "    return 0"
   ]
  },
  {
   "cell_type": "code",
   "execution_count": 10,
   "metadata": {},
   "outputs": [],
   "source": [
    "#definir números para las categorías. Es el agrupamiento que hacen en el anuario UNC\n",
    "def from_estudio(value):\n",
    "    if 'de postgrado' in value.lower():\n",
    "        #return 'postgrado'\n",
    "        return 8\n",
    "    if 'universitarios completos' in value.lower():\n",
    "        #return 'univ_completos'\n",
    "        return 7\n",
    "    if 'universitarios incompletos' in value.lower():\n",
    "        #return 'univ_incompleto'\n",
    "        return 6\n",
    "    if 'superiores completos' in value.lower():\n",
    "        #return 'sup_completo'\n",
    "        return 5\n",
    "    if 'superiores incompletos' in value.lower():\n",
    "        #return 'sup_incompleto'\n",
    "        return 4\n",
    "    if 'secundarios completos' in value.lower():\n",
    "        #return 'sec_completo'\n",
    "        return 3\n",
    "    if 'secundarios incompletos' in value.lower() or 'primarios completos' in value.lower():\n",
    "        #return 'primario_completo-sec_inc'\n",
    "        return 2\n",
    "    if 'primarios incompletos' in value.lower() or 'no hizo estudios' in value.lower():\n",
    "        #return 'primario_inc-sin_estudios'\n",
    "        return 1\n",
    "    #return 'Desconoce'\n",
    "    return 0"
   ]
  },
  {
   "cell_type": "code",
   "execution_count": 11,
   "metadata": {},
   "outputs": [],
   "source": [
    "def add_col(data, col_ori, col_nva, transf):\n",
    "    data.loc[data.index, col_nva] = data[col_ori].apply(transf)"
   ]
  },
  {
   "cell_type": "code",
   "execution_count": 12,
   "metadata": {},
   "outputs": [
    {
     "name": "stderr",
     "output_type": "stream",
     "text": [
      "/home/lucia/anaconda3/envs/diplodatos/lib/python3.7/site-packages/pandas/core/indexing.py:362: SettingWithCopyWarning: \n",
      "A value is trying to be set on a copy of a slice from a DataFrame.\n",
      "Try using .loc[row_indexer,col_indexer] = value instead\n",
      "\n",
      "See the caveats in the documentation: http://pandas.pydata.org/pandas-docs/stable/user_guide/indexing.html#returning-a-view-versus-a-copy\n",
      "  self.obj[key] = _infer_fill_value(value)\n",
      "/home/lucia/anaconda3/envs/diplodatos/lib/python3.7/site-packages/pandas/core/indexing.py:480: SettingWithCopyWarning: \n",
      "A value is trying to be set on a copy of a slice from a DataFrame.\n",
      "Try using .loc[row_indexer,col_indexer] = value instead\n",
      "\n",
      "See the caveats in the documentation: http://pandas.pydata.org/pandas-docs/stable/user_guide/indexing.html#returning-a-view-versus-a-copy\n",
      "  self.obj[item] = s\n"
     ]
    }
   ],
   "source": [
    "add_col(datos_null, \"padre_ult_est_curs\", \"estudios_padre\", from_estudio)\n",
    "add_col(datos_null, \"madre_ult_est_curs\", \"estudios_madre\", from_estudio)\n",
    "\n",
    "add_col(datos_null, \"padre_ult_est_curs\", \"estudios_padre_s\", from_estudio_s)\n",
    "add_col(datos_null, \"madre_ult_est_curs\", \"estudios_madre_s\", from_estudio_s)"
   ]
  },
  {
   "cell_type": "code",
   "execution_count": 13,
   "metadata": {},
   "outputs": [],
   "source": [
    "# binarizamos nivel de estudios con una cantidad de categorías reducida: primaria incompleta; \n",
    "#primaria completa/sec incompleta; sec completa; superiores comp/incomp univ compl/inc o postgrado\n",
    "\n",
    "nv_estudios_madre_s = pd.get_dummies(datos_null.estudios_madre_s, prefix='niv_est_madre', prefix_sep='_')\n",
    "datos_null = pd.merge(datos_null, nv_estudios_madre_s, left_index=True, right_index=True)\n",
    "nv_estudios_padre_s = pd.get_dummies(datos_null.estudios_padre_s, prefix='niv_est_padre', prefix_sep='_')\n",
    "datos_null = pd.merge(datos_null, nv_estudios_padre_s, left_index=True, right_index=True)"
   ]
  },
  {
   "cell_type": "markdown",
   "metadata": {},
   "source": [
    "#### Transformar categorías de idiomas en enteros"
   ]
  },
  {
   "cell_type": "code",
   "execution_count": 14,
   "metadata": {},
   "outputs": [],
   "source": [
    "def from_idioma(value):\n",
    "    if 'Muy bueno' in value:\n",
    "        return 3\n",
    "    if 'Bueno' in value:\n",
    "        return 2\n",
    "    if 'Básico' in value:\n",
    "        return 1\n",
    "    return 0"
   ]
  },
  {
   "cell_type": "code",
   "execution_count": 15,
   "metadata": {},
   "outputs": [],
   "source": [
    "datos_null.loc[datos_null.index, 'idioma_ingles'] = datos_null.loc[\n",
    "                                                    datos_null.index, 'idioma_ingles'].apply(from_idioma)"
   ]
  },
  {
   "cell_type": "markdown",
   "metadata": {},
   "source": [
    "#### Construir variables binarias con las categorías de 'trabajo'"
   ]
  },
  {
   "cell_type": "code",
   "execution_count": 16,
   "metadata": {},
   "outputs": [],
   "source": [
    "col_trabajo = pd.get_dummies(datos_null.trabajo, prefix='alm', prefix_sep='_')"
   ]
  },
  {
   "cell_type": "code",
   "execution_count": 17,
   "metadata": {},
   "outputs": [],
   "source": [
    "datos_null = pd.merge(datos_null, col_trabajo, left_index=True, right_index=True)"
   ]
  },
  {
   "cell_type": "code",
   "execution_count": 18,
   "metadata": {},
   "outputs": [],
   "source": [
    "datos_null.madre_trabajo = datos_null.madre_trabajo.fillna('Desconoce')\n",
    "datos_null.padre_trabajo = datos_null.padre_trabajo.fillna('Desconoce')"
   ]
  },
  {
   "cell_type": "code",
   "execution_count": 19,
   "metadata": {},
   "outputs": [],
   "source": [
    "col_trabajo_madre = pd.get_dummies(datos_null.madre_trabajo, prefix='madre', prefix_sep='_')"
   ]
  },
  {
   "cell_type": "code",
   "execution_count": 20,
   "metadata": {},
   "outputs": [],
   "source": [
    "col_trabajo_padre = pd.get_dummies(datos_null.padre_trabajo, prefix='padre', prefix_sep='_')"
   ]
  },
  {
   "cell_type": "code",
   "execution_count": 21,
   "metadata": {},
   "outputs": [],
   "source": [
    "datos_null = pd.merge(datos_null, col_trabajo_madre, left_index=True, right_index=True)"
   ]
  },
  {
   "cell_type": "code",
   "execution_count": 22,
   "metadata": {},
   "outputs": [],
   "source": [
    "datos_null = pd.merge(datos_null, col_trabajo_padre, left_index=True, right_index=True)"
   ]
  },
  {
   "cell_type": "markdown",
   "metadata": {},
   "source": [
    "#### Construir variable binaria con obra social"
   ]
  },
  {
   "cell_type": "code",
   "execution_count": 23,
   "metadata": {},
   "outputs": [],
   "source": [
    "col_obrasocial = pd.get_dummies(datos_null.obra_social)"
   ]
  },
  {
   "cell_type": "code",
   "execution_count": 24,
   "metadata": {},
   "outputs": [],
   "source": [
    "datos_null = pd.merge(datos_null,col_obrasocial,left_index=True, right_index=True)"
   ]
  },
  {
   "cell_type": "markdown",
   "metadata": {},
   "source": [
    "#### Construir variable binaria con horas semanales de trabajo"
   ]
  },
  {
   "cell_type": "code",
   "execution_count": 25,
   "metadata": {},
   "outputs": [],
   "source": [
    "col_horastrabajo = pd.get_dummies(datos_null.horas_sem_trabajo, prefix='alm', prefix_sep='_')"
   ]
  },
  {
   "cell_type": "code",
   "execution_count": 26,
   "metadata": {},
   "outputs": [],
   "source": [
    "datos_null = pd.merge(datos_null,col_horastrabajo,left_index=True, right_index=True) "
   ]
  },
  {
   "cell_type": "markdown",
   "metadata": {},
   "source": [
    "#### Binarizar variables SI NO"
   ]
  },
  {
   "cell_type": "code",
   "execution_count": 27,
   "metadata": {},
   "outputs": [],
   "source": [
    "def trans_SN(val):\n",
    "    if val==\"S\":\n",
    "        return(1)\n",
    "    if val==\"N\":\n",
    "        return(0)\n",
    "    return(0)"
   ]
  },
  {
   "cell_type": "code",
   "execution_count": 28,
   "metadata": {},
   "outputs": [],
   "source": [
    "datos_null.dep_practica = datos_null.dep_practica.apply(trans_SN)"
   ]
  },
  {
   "cell_type": "code",
   "execution_count": 29,
   "metadata": {},
   "outputs": [],
   "source": [
    "datos_null.madre_vive = datos_null.madre_vive.apply(trans_SN)"
   ]
  },
  {
   "cell_type": "code",
   "execution_count": 30,
   "metadata": {},
   "outputs": [],
   "source": [
    "datos_null.padre_vive = datos_null.padre_vive.apply(trans_SN)"
   ]
  },
  {
   "cell_type": "markdown",
   "metadata": {},
   "source": [
    "#### Transfomar string -> int"
   ]
  },
  {
   "cell_type": "code",
   "execution_count": 31,
   "metadata": {},
   "outputs": [],
   "source": [
    "datos_null.loc[datos_null.index, 'sexo'] = pd.to_numeric(datos_null.loc[datos_null.index, 'sexo'])"
   ]
  },
  {
   "cell_type": "code",
   "execution_count": 32,
   "metadata": {},
   "outputs": [],
   "source": [
    "datos_null.loc[datos_null.index, 'matcursprisem'] = pd.to_numeric(datos_null.loc[datos_null.index, 'matcursprisem'])"
   ]
  },
  {
   "cell_type": "code",
   "execution_count": 33,
   "metadata": {},
   "outputs": [],
   "source": [
    "datos_null.loc[datos_null.index, 'cantmataprob_al_21-10-2017'] = pd.to_numeric(datos_null.loc[\n",
    "               datos_null.index, 'cantmataprob_al_21-10-2017'])"
   ]
  },
  {
   "cell_type": "markdown",
   "metadata": {},
   "source": [
    "#### Transformar carreras a variables numéricas"
   ]
  },
  {
   "cell_type": "code",
   "execution_count": 34,
   "metadata": {},
   "outputs": [],
   "source": [
    "datos_null.nombre_carrera = pd.Categorical(datos_null.nombre_carrera)"
   ]
  },
  {
   "cell_type": "code",
   "execution_count": 35,
   "metadata": {},
   "outputs": [],
   "source": [
    "datos_null.loc[ datos_null.index, 'cod_carrera'] = datos_null.nombre_carrera.cat.codes"
   ]
  },
  {
   "cell_type": "code",
   "execution_count": 36,
   "metadata": {},
   "outputs": [],
   "source": [
    "_df = pd.DataFrame({'a': [1,2,3,4,5,6,7,8], 'b':[8,7,6,5,4,3,2,1]})"
   ]
  },
  {
   "cell_type": "code",
   "execution_count": 37,
   "metadata": {},
   "outputs": [
    {
     "data": {
      "text/plain": [
       "0    9\n",
       "1    9\n",
       "2    9\n",
       "3    9\n",
       "4    9\n",
       "5    9\n",
       "6    9\n",
       "7    9\n",
       "dtype: int64"
      ]
     },
     "execution_count": 37,
     "metadata": {},
     "output_type": "execute_result"
    }
   ],
   "source": [
    "_df.apply(lambda x: x[0] + x[1], axis=1)"
   ]
  },
  {
   "cell_type": "markdown",
   "metadata": {},
   "source": [
    "#### Juntar otros idiomas (excluyendo ingles) y hacer categorías numéricas"
   ]
  },
  {
   "cell_type": "code",
   "execution_count": 38,
   "metadata": {},
   "outputs": [],
   "source": [
    "datos_otros_idms = datos_null.loc[datos_null.index,['idioma_itali', 'idioma_franc', 'idioma_aleman', 'idioma_portu']]"
   ]
  },
  {
   "cell_type": "code",
   "execution_count": 39,
   "metadata": {},
   "outputs": [],
   "source": [
    "def juntar_sel(l):\n",
    "    lstring = ' '.join(l)\n",
    "    if 'Muy bueno' in lstring:\n",
    "        return 3\n",
    "    if 'Bueno' in lstring:\n",
    "        return 2\n",
    "    if 'Básico' in lstring:\n",
    "        return 1\n",
    "    return 0"
   ]
  },
  {
   "cell_type": "code",
   "execution_count": 40,
   "metadata": {},
   "outputs": [],
   "source": [
    "datos_null.loc[datos_null.index, 'otros_idms'] = datos_otros_idms.apply(juntar_sel, axis=1)"
   ]
  },
  {
   "cell_type": "code",
   "execution_count": 41,
   "metadata": {},
   "outputs": [
    {
     "data": {
      "text/plain": [
       "0    2013\n",
       "1     522\n",
       "2     172\n",
       "Name: otros_idms, dtype: int64"
      ]
     },
     "execution_count": 41,
     "metadata": {},
     "output_type": "execute_result"
    }
   ],
   "source": [
    "datos_null.otros_idms.value_counts()"
   ]
  },
  {
   "cell_type": "code",
   "execution_count": 42,
   "metadata": {},
   "outputs": [],
   "source": [
    "# binarizamos nivel de inglés generando tres variables, cada una por categoría de nivel de inglés\n",
    "nv_ingles = pd.get_dummies(datos_null.idioma_ingles, prefix='niv_ingles', prefix_sep='_')\n",
    "datos_null = pd.merge(datos_null, nv_ingles, left_index=True, right_index=True)"
   ]
  },
  {
   "cell_type": "markdown",
   "metadata": {},
   "source": [
    "### Columnas que seleccionamos después de la exploración"
   ]
  },
  {
   "cell_type": "code",
   "execution_count": 43,
   "metadata": {},
   "outputs": [
    {
     "name": "stderr",
     "output_type": "stream",
     "text": [
      "/home/lucia/anaconda3/envs/diplodatos/lib/python3.7/site-packages/pandas/core/frame.py:4218: SettingWithCopyWarning: \n",
      "A value is trying to be set on a copy of a slice from a DataFrame\n",
      "\n",
      "See the caveats in the documentation: http://pandas.pydata.org/pandas-docs/stable/user_guide/indexing.html#returning-a-view-versus-a-copy\n",
      "  return super().rename(**kwargs)\n"
     ]
    }
   ],
   "source": [
    "cols_sel = [ \n",
    "      'nota_matematica',\n",
    "      'madre_vive',\n",
    "      'padre_vive',\n",
    "      'alm_No trabajó y buscó trabajo en algún momento de los últimos 30 días',\n",
    "      'alm_No trabajó y no buscó trabajo', \n",
    "      'alm_Trabajó al menos una hora',\n",
    "      'madre_Desconoce',\n",
    "      'madre_No trabajó y buscó trabajo en algún momento de los últimos 30 días',\n",
    "      'madre_No trabajó y no buscó trabajo',\n",
    "      'madre_Trabajó al menos una hora', \n",
    "      'padre_Desconoce',\n",
    "      'padre_No trabajó y buscó trabajo en algún momento de los últimos 30 días',\n",
    "      'padre_No trabajó y no buscó trabajo',\n",
    "      'padre_Trabajó al menos una hora', \n",
    "      'Carece de Obra Social',\n",
    "      'Como afiliado voluntario', \n",
    "      'Otorgada por la universidad',\n",
    "      'Por ser familiar a cargo', \n",
    "      'Por su trabajo',\n",
    "      'niv_est_madre_0',\n",
    "      'niv_est_madre_1', \n",
    "      'niv_est_madre_2',\n",
    "      'niv_est_madre_3', \n",
    "      'niv_est_madre_4', \n",
    "      'niv_est_padre_0',\n",
    "      'niv_est_padre_1', \n",
    "      'niv_est_padre_2', \n",
    "      'niv_est_padre_3',\n",
    "      'niv_est_padre_4', \n",
    "      'niv_ingles_0', \n",
    "      'niv_ingles_1', \n",
    "      'niv_ingles_2'\n",
    "        ]\n",
    "\n",
    "# sacamos las variables sexo, otros idiomas, dep_practica porque no vemos influencia en la variable dependiente\n",
    "# y la carrera porque habría que reagrupar o segmentar para usarla en la regresión.\n",
    "\n",
    "X_no = [ 'sexo', 'otros_idms', 'dep_practica', 'cod_carrera']\n",
    "\n",
    "# usamos como y la nota de matemática pero vimos que se ven cosas muy similares con \n",
    "# 'matcursprisem' y 'cantmataprob_al_21-10-2017'.\n",
    "\n",
    "#y = ['nota_matematica']\n",
    "\n",
    "#cambiar el nombre de algunas columnas:\n",
    "data_sel = datos_null[cols_sel]\n",
    "\n",
    "dic_columnas = {'alm_No trabajó y buscó trabajo en algún momento de los últimos 30 días': 'alm_NoTr_B',\n",
    "'alm_No trabajó y no buscó trabajo': 'alm_NoTr_NoB',\n",
    "'alm_Trabajó al menos una hora': 'alm_Tr',\n",
    "'madre_No trabajó y buscó trabajo en algún momento de los últimos 30 días': 'madre_NoTr_B',\n",
    "'madre_No trabajó y no buscó trabajo': 'madre_NoTr_NoB',\n",
    "'madre_Trabajó al menos una hora': 'madre_Tr',\n",
    "'padre_No trabajó y buscó trabajo en algún momento de los últimos 30 días': 'padre_NoTr_B',\n",
    "'padre_No trabajó y no buscó trabajo': 'padre_NoTr_NoB',\n",
    "'padre_Trabajó al menos una hora': 'padre_Tr',\n",
    "'Carece de Obra Social' : 'OS_sin',\n",
    "'Como afiliado voluntario': 'OS_voluntario',\n",
    "'Otorgada por la universidad': 'OS_univ',\n",
    "'Por ser familiar a cargo': 'OS_familiar',\n",
    "'Por su trabajo':  'OS_trabajo'}\n",
    "\n",
    "data_sel.rename(columns=dic_columnas, inplace=True)\n",
    "#data_sel"
   ]
  },
  {
   "cell_type": "code",
   "execution_count": 44,
   "metadata": {},
   "outputs": [
    {
     "name": "stdout",
     "output_type": "stream",
     "text": [
      "Index(['nombre_carrera', 'sexo', 'obra_social', 'madre_trabajo', 'madre_vive',\n",
      "       'padre_trabajo', 'padre_vive', 'trabajo', 'horas_sem_trabajo',\n",
      "       'padre_ult_est_curs', 'madre_ult_est_curs', 'nota_matematica',\n",
      "       'matcursprisem', 'cantmataprob_al_21-10-2017', 'dep_practica',\n",
      "       'idioma_ingles', 'idioma_franc', 'idioma_portu', 'idioma_itali',\n",
      "       'idioma_aleman', 'estudios_padre', 'estudios_madre', 'estudios_padre_s',\n",
      "       'estudios_madre_s', 'niv_est_madre_0', 'niv_est_madre_1',\n",
      "       'niv_est_madre_2', 'niv_est_madre_3', 'niv_est_madre_4',\n",
      "       'niv_est_padre_0', 'niv_est_padre_1', 'niv_est_padre_2',\n",
      "       'niv_est_padre_3', 'niv_est_padre_4',\n",
      "       'alm_No trabajó y buscó trabajo en algún momento de los últimos 30 días',\n",
      "       'alm_No trabajó y no buscó trabajo', 'alm_Trabajó al menos una hora',\n",
      "       'madre_Desconoce',\n",
      "       'madre_No trabajó y buscó trabajo en algún momento de los últimos 30 días',\n",
      "       'madre_No trabajó y no buscó trabajo',\n",
      "       'madre_Trabajó al menos una hora', 'padre_Desconoce',\n",
      "       'padre_No trabajó y buscó trabajo en algún momento de los últimos 30 días',\n",
      "       'padre_No trabajó y no buscó trabajo',\n",
      "       'padre_Trabajó al menos una hora', 'Carece de Obra Social',\n",
      "       'Como afiliado voluntario', 'Otorgada por la universidad',\n",
      "       'Por ser familiar a cargo', 'Por su trabajo', 'alm_35 o mas horas',\n",
      "       'alm_Hasta 10 horas', 'alm_Mas de 10 y hasta 20 horas',\n",
      "       'alm_Mas de 20 y menos de 35 horas', 'cod_carrera', 'otros_idms',\n",
      "       'niv_ingles_0', 'niv_ingles_1', 'niv_ingles_2'],\n",
      "      dtype='object')\n",
      "Index(['nota_matematica', 'madre_vive', 'padre_vive', 'alm_NoTr_B',\n",
      "       'alm_NoTr_NoB', 'alm_Tr', 'madre_Desconoce', 'madre_NoTr_B',\n",
      "       'madre_NoTr_NoB', 'madre_Tr', 'padre_Desconoce', 'padre_NoTr_B',\n",
      "       'padre_NoTr_NoB', 'padre_Tr', 'OS_sin', 'OS_voluntario', 'OS_univ',\n",
      "       'OS_familiar', 'OS_trabajo', 'niv_est_madre_0', 'niv_est_madre_1',\n",
      "       'niv_est_madre_2', 'niv_est_madre_3', 'niv_est_madre_4',\n",
      "       'niv_est_padre_0', 'niv_est_padre_1', 'niv_est_padre_2',\n",
      "       'niv_est_padre_3', 'niv_est_padre_4', 'niv_ingles_0', 'niv_ingles_1',\n",
      "       'niv_ingles_2'],\n",
      "      dtype='object')\n"
     ]
    }
   ],
   "source": [
    "print(datos_null.columns)\n",
    "print(data_sel.columns)"
   ]
  },
  {
   "cell_type": "markdown",
   "metadata": {},
   "source": [
    "# TP3 "
   ]
  },
  {
   "cell_type": "markdown",
   "metadata": {},
   "source": [
    "### Análisis de los datos con distintos modelos: regresión logística, Perceptrón y SGD\n",
    "## Regresión logística"
   ]
  },
  {
   "cell_type": "markdown",
   "metadata": {},
   "source": [
    "#### Analisis de la correlación entre la condición de alumno trabajador y el desempeño, solo y en función de otras variables que serán indicadores de nivel y condiciones socieconómicas (madre_vive, padre_vive, estudios_padre, estudios_madre, trabajo_padre, trabajo_madre, nivel de inglés, obra social)."
   ]
  },
  {
   "cell_type": "markdown",
   "metadata": {},
   "source": [
    "## Trabajo\n",
    "\n",
    "- Pregunta: que los alumnos trabajen (y/o necesiten trabajar) afecta el desempeño,tomando como evaluador la aprobación de matemática del cursillo en el mismo año de ingreso.\n",
    "\n",
    "Ajustamos un modelo donde la variable independiente es \"trabajo\" y la variable dependiente la nota de matemática. \n",
    "La variable tiene tres categorías: trabaja, no trabaja pero busca trabajo, no trabaja y no busca trabajo. Tomamos como referencia (o línea de base) la categoría que reúne alumnos que no trabajan ni buscan trabajo. Por eso solo nos quedamos con las dos variables binarias restantes. Observamos el comportamiento de esos dos grupos de alumnos en relación al primero."
   ]
  },
  {
   "cell_type": "code",
   "execution_count": 45,
   "metadata": {},
   "outputs": [],
   "source": [
    "from sklearn.linear_model import LogisticRegression\n",
    "#from sklearn.metrics import accuracy_score, confusion_matrix, mean_squared_error\n",
    "from sklearn import metrics\n",
    "import statsmodels.api as sm\n",
    "from sklearn.metrics import confusion_matrix"
   ]
  },
  {
   "cell_type": "code",
   "execution_count": 46,
   "metadata": {},
   "outputs": [],
   "source": [
    "def logit_st(x, y):\n",
    "    X_const = sm.add_constant(x)\n",
    "    logit_model=sm.Logit(y,X_const) #[['niv_est_padre_1']])\n",
    "    result=logit_model.fit()\n",
    "    print(result.summary())\n",
    "    logit_model.fit().params\n",
    "    return()"
   ]
  },
  {
   "cell_type": "code",
   "execution_count": 47,
   "metadata": {},
   "outputs": [],
   "source": [
    "def logit_sk(x, y):\n",
    "    #X_train, X_test, y_train, y_test = train_test_split(X, y, test_size=0.3, random_state=0)\n",
    "    logreg = LogisticRegression(fit_intercept = True, C = 1e9)\n",
    "    m_fit = logreg.fit(x, y)\n",
    "    print(m_fit)\n",
    "    print('coeficientes= ',logreg.coef_)\n",
    "    print('intercepto= ', logreg.intercept_)\n",
    "    y_pred = logreg.predict(x)\n",
    "    print('Accuracy en los datos: {:.2f}'.format(logreg.score(x, y)))\n",
    "    #c_matrix = confusion_matrix(y, y_pred)\n",
    "    #print(c_matrix) \n",
    "    return()"
   ]
  },
  {
   "cell_type": "markdown",
   "metadata": {},
   "source": []
  },
  {
   "cell_type": "code",
   "execution_count": 48,
   "metadata": {},
   "outputs": [
    {
     "name": "stderr",
     "output_type": "stream",
     "text": [
      "/home/lucia/anaconda3/envs/diplodatos/lib/python3.7/site-packages/numpy/core/fromnumeric.py:2389: FutureWarning: Method .ptp is deprecated and will be removed in a future version. Use numpy.ptp instead.\n",
      "  return ptp(axis=axis, out=out, **kwargs)\n",
      "/home/lucia/anaconda3/envs/diplodatos/lib/python3.7/site-packages/numpy/core/fromnumeric.py:2389: FutureWarning: Method .ptp is deprecated and will be removed in a future version. Use numpy.ptp instead.\n",
      "  return ptp(axis=axis, out=out, **kwargs)\n"
     ]
    },
    {
     "name": "stdout",
     "output_type": "stream",
     "text": [
      "Optimization terminated successfully.\n",
      "         Current function value: 0.628590\n",
      "         Iterations 5\n",
      "                           Logit Regression Results                           \n",
      "==============================================================================\n",
      "Dep. Variable:        nota_matematica   No. Observations:                 2707\n",
      "Model:                          Logit   Df Residuals:                     2704\n",
      "Method:                           MLE   Df Model:                            2\n",
      "Date:                Mon, 26 Aug 2019   Pseudo R-squ.:                 0.06563\n",
      "Time:                        21:03:32   Log-Likelihood:                -1701.6\n",
      "converged:                       True   LL-Null:                       -1821.1\n",
      "Covariance Type:            nonrobust   LLR p-value:                 1.244e-52\n",
      "==============================================================================\n",
      "                 coef    std err          z      P>|z|      [0.025      0.975]\n",
      "------------------------------------------------------------------------------\n",
      "const          0.9438      0.056     16.874      0.000       0.834       1.053\n",
      "alm_Tr        -1.4212      0.103    -13.852      0.000      -1.622      -1.220\n",
      "alm_NoTr_B    -1.0093      0.102     -9.893      0.000      -1.209      -0.809\n",
      "==============================================================================\n",
      "Optimization terminated successfully.\n",
      "         Current function value: 0.628590\n",
      "         Iterations 5\n"
     ]
    },
    {
     "name": "stderr",
     "output_type": "stream",
     "text": [
      "/home/lucia/anaconda3/envs/diplodatos/lib/python3.7/site-packages/sklearn/linear_model/logistic.py:432: FutureWarning: Default solver will be changed to 'lbfgs' in 0.22. Specify a solver to silence this warning.\n",
      "  FutureWarning)\n"
     ]
    },
    {
     "name": "stdout",
     "output_type": "stream",
     "text": [
      "LogisticRegression(C=1000000000.0, class_weight=None, dual=False,\n",
      "                   fit_intercept=True, intercept_scaling=1, l1_ratio=None,\n",
      "                   max_iter=100, multi_class='warn', n_jobs=None, penalty='l2',\n",
      "                   random_state=None, solver='warn', tol=0.0001, verbose=0,\n",
      "                   warm_start=False)\n",
      "coeficientes=  [[-1.42123083 -1.00931324]]\n",
      "intercepto=  [0.94383549]\n",
      "Accuracy en los datos: 0.66\n"
     ]
    },
    {
     "data": {
      "text/plain": [
       "()"
      ]
     },
     "execution_count": 48,
     "metadata": {},
     "output_type": "execute_result"
    }
   ],
   "source": [
    "#ajustar con trabajo y ver qué pasa con trabajo y sumando de a una variable de por vez.\n",
    "y_data = data_sel['nota_matematica']\n",
    "x_data = data_sel[['alm_Tr' , 'alm_NoTr_B']]\n",
    "logit_st(x_data, y_data)\n",
    "logit_sk(x_data, y_data)"
   ]
  },
  {
   "cell_type": "markdown",
   "metadata": {},
   "source": [
    "### resultado trabajo\n",
    "Regresión logística en los datos de Trabajo, tomando como línea de base a los alumnos que no trabajan y no buscan trabajo, usando como variable dependiente la nota de Matemáticas del ciclo nivelador. Los coeficientes para la variación respecto a la condición \"trabajar\" y \"no trabajar pero buscar trabajo\", son ambos negativos y significativos (p<0.001). \"La población que trabaja o busca trabajo tiene menos probabilidad (frecuencia) de aprobar\". \n",
    "> Chequear : la variable trabajo es significativa para explicar el rendimiento (s/ nota de matemática), según el p-value del chi2 (LLR p-value: 1.244e-52)"
   ]
  },
  {
   "cell_type": "markdown",
   "metadata": {},
   "source": [
    "## Madre vive / Padre vive\n",
    "\n",
    "Pregunta: que la madre y el padre viva se correlaciona con el rendimiento de los alumnos (medido en función la variable nota_matematica)?"
   ]
  },
  {
   "cell_type": "code",
   "execution_count": 49,
   "metadata": {},
   "outputs": [
    {
     "name": "stdout",
     "output_type": "stream",
     "text": [
      "Optimization terminated successfully.\n",
      "         Current function value: 0.669877\n",
      "         Iterations 4\n",
      "                           Logit Regression Results                           \n",
      "==============================================================================\n",
      "Dep. Variable:        nota_matematica   No. Observations:                 2707\n",
      "Model:                          Logit   Df Residuals:                     2705\n",
      "Method:                           MLE   Df Model:                            1\n",
      "Date:                Mon, 26 Aug 2019   Pseudo R-squ.:                0.004257\n",
      "Time:                        21:03:32   Log-Likelihood:                -1813.4\n",
      "converged:                       True   LL-Null:                       -1821.1\n",
      "Covariance Type:            nonrobust   LLR p-value:                 8.230e-05\n",
      "==============================================================================\n",
      "                 coef    std err          z      P>|z|      [0.025      0.975]\n",
      "------------------------------------------------------------------------------\n",
      "const         -0.5781      0.261     -2.219      0.026      -1.089      -0.067\n",
      "madre_vive     1.0107      0.264      3.835      0.000       0.494       1.527\n",
      "==============================================================================\n",
      "Optimization terminated successfully.\n",
      "         Current function value: 0.669877\n",
      "         Iterations 4\n",
      "LogisticRegression(C=1000000000.0, class_weight=None, dual=False,\n",
      "                   fit_intercept=True, intercept_scaling=1, l1_ratio=None,\n",
      "                   max_iter=100, multi_class='warn', n_jobs=None, penalty='l2',\n",
      "                   random_state=None, solver='warn', tol=0.0001, verbose=0,\n",
      "                   warm_start=False)\n",
      "coeficientes=  [[1.01070053]]\n",
      "intercepto=  [-0.57804437]\n",
      "Accuracy en los datos: 0.61\n"
     ]
    },
    {
     "name": "stderr",
     "output_type": "stream",
     "text": [
      "/home/lucia/anaconda3/envs/diplodatos/lib/python3.7/site-packages/numpy/core/fromnumeric.py:2389: FutureWarning: Method .ptp is deprecated and will be removed in a future version. Use numpy.ptp instead.\n",
      "  return ptp(axis=axis, out=out, **kwargs)\n",
      "/home/lucia/anaconda3/envs/diplodatos/lib/python3.7/site-packages/sklearn/linear_model/logistic.py:432: FutureWarning: Default solver will be changed to 'lbfgs' in 0.22. Specify a solver to silence this warning.\n",
      "  FutureWarning)\n"
     ]
    },
    {
     "data": {
      "text/plain": [
       "()"
      ]
     },
     "execution_count": 49,
     "metadata": {},
     "output_type": "execute_result"
    }
   ],
   "source": [
    "#ajustar con trabajo y ver qué pasa con trabajo y sumando de a una variable de por vez.\n",
    "y_data = data_sel['nota_matematica']\n",
    "x_data = data_sel[['madre_vive']]\n",
    "logit_st(x_data, y_data)\n",
    "logit_sk(x_data, y_data)"
   ]
  },
  {
   "cell_type": "code",
   "execution_count": 50,
   "metadata": {},
   "outputs": [
    {
     "name": "stdout",
     "output_type": "stream",
     "text": [
      "Optimization terminated successfully.\n",
      "         Current function value: 0.669165\n",
      "         Iterations 4\n",
      "                           Logit Regression Results                           \n",
      "==============================================================================\n",
      "Dep. Variable:        nota_matematica   No. Observations:                 2707\n",
      "Model:                          Logit   Df Residuals:                     2705\n",
      "Method:                           MLE   Df Model:                            1\n",
      "Date:                Mon, 26 Aug 2019   Pseudo R-squ.:                0.005315\n",
      "Time:                        21:03:32   Log-Likelihood:                -1811.4\n",
      "converged:                       True   LL-Null:                       -1821.1\n",
      "Covariance Type:            nonrobust   LLR p-value:                 1.083e-05\n",
      "==============================================================================\n",
      "                 coef    std err          z      P>|z|      [0.025      0.975]\n",
      "------------------------------------------------------------------------------\n",
      "const         -0.1487      0.133     -1.122      0.262      -0.408       0.111\n",
      "padre_vive     0.6104      0.139      4.397      0.000       0.338       0.882\n",
      "==============================================================================\n",
      "Optimization terminated successfully.\n",
      "         Current function value: 0.669165\n",
      "         Iterations 4\n",
      "LogisticRegression(C=1000000000.0, class_weight=None, dual=False,\n",
      "                   fit_intercept=True, intercept_scaling=1, l1_ratio=None,\n",
      "                   max_iter=100, multi_class='warn', n_jobs=None, penalty='l2',\n",
      "                   random_state=None, solver='warn', tol=0.0001, verbose=0,\n",
      "                   warm_start=False)\n",
      "coeficientes=  [[0.61008019]]\n",
      "intercepto=  [-0.1484794]\n",
      "Accuracy en los datos: 0.61\n"
     ]
    },
    {
     "name": "stderr",
     "output_type": "stream",
     "text": [
      "/home/lucia/anaconda3/envs/diplodatos/lib/python3.7/site-packages/numpy/core/fromnumeric.py:2389: FutureWarning: Method .ptp is deprecated and will be removed in a future version. Use numpy.ptp instead.\n",
      "  return ptp(axis=axis, out=out, **kwargs)\n",
      "/home/lucia/anaconda3/envs/diplodatos/lib/python3.7/site-packages/sklearn/linear_model/logistic.py:432: FutureWarning: Default solver will be changed to 'lbfgs' in 0.22. Specify a solver to silence this warning.\n",
      "  FutureWarning)\n"
     ]
    },
    {
     "data": {
      "text/plain": [
       "()"
      ]
     },
     "execution_count": 50,
     "metadata": {},
     "output_type": "execute_result"
    }
   ],
   "source": [
    "y_data = data_sel['nota_matematica']\n",
    "x_data = data_sel[['padre_vive']]\n",
    "logit_st(x_data, y_data)\n",
    "logit_sk(x_data, y_data)"
   ]
  },
  {
   "cell_type": "code",
   "execution_count": 51,
   "metadata": {},
   "outputs": [
    {
     "name": "stdout",
     "output_type": "stream",
     "text": [
      "Optimization terminated successfully.\n",
      "         Current function value: 0.667332\n",
      "         Iterations 4\n",
      "                           Logit Regression Results                           \n",
      "==============================================================================\n",
      "Dep. Variable:        nota_matematica   No. Observations:                 2707\n",
      "Model:                          Logit   Df Residuals:                     2704\n",
      "Method:                           MLE   Df Model:                            2\n",
      "Date:                Mon, 26 Aug 2019   Pseudo R-squ.:                0.008041\n",
      "Time:                        21:03:33   Log-Likelihood:                -1806.5\n",
      "converged:                       True   LL-Null:                       -1821.1\n",
      "Covariance Type:            nonrobust   LLR p-value:                 4.371e-07\n",
      "==============================================================================\n",
      "                 coef    std err          z      P>|z|      [0.025      0.975]\n",
      "------------------------------------------------------------------------------\n",
      "const         -0.8848      0.276     -3.205      0.001      -1.426      -0.344\n",
      "madre_vive     0.8314      0.269      3.086      0.002       0.303       1.359\n",
      "padre_vive     0.5276      0.142      3.718      0.000       0.249       0.806\n",
      "==============================================================================\n",
      "Optimization terminated successfully.\n",
      "         Current function value: 0.667332\n",
      "         Iterations 4\n",
      "LogisticRegression(C=1000000000.0, class_weight=None, dual=False,\n",
      "                   fit_intercept=True, intercept_scaling=1, l1_ratio=None,\n",
      "                   max_iter=100, multi_class='warn', n_jobs=None, penalty='l2',\n",
      "                   random_state=None, solver='warn', tol=0.0001, verbose=0,\n",
      "                   warm_start=False)\n",
      "coeficientes=  [[0.83140552 0.52755037]]\n",
      "intercepto=  [-0.88477705]\n",
      "Accuracy en los datos: 0.61\n"
     ]
    },
    {
     "name": "stderr",
     "output_type": "stream",
     "text": [
      "/home/lucia/anaconda3/envs/diplodatos/lib/python3.7/site-packages/numpy/core/fromnumeric.py:2389: FutureWarning: Method .ptp is deprecated and will be removed in a future version. Use numpy.ptp instead.\n",
      "  return ptp(axis=axis, out=out, **kwargs)\n",
      "/home/lucia/anaconda3/envs/diplodatos/lib/python3.7/site-packages/sklearn/linear_model/logistic.py:432: FutureWarning: Default solver will be changed to 'lbfgs' in 0.22. Specify a solver to silence this warning.\n",
      "  FutureWarning)\n"
     ]
    },
    {
     "data": {
      "text/plain": [
       "()"
      ]
     },
     "execution_count": 51,
     "metadata": {},
     "output_type": "execute_result"
    }
   ],
   "source": [
    "y_data = data_sel['nota_matematica']\n",
    "x_data = data_sel[['madre_vive', 'padre_vive']]\n",
    "logit_st(x_data, y_data)\n",
    "logit_sk(x_data, y_data)"
   ]
  },
  {
   "cell_type": "markdown",
   "metadata": {},
   "source": [
    "### resultado madre o padre viven\n",
    "\n",
    "En ambos casos los coeficientes son positivos y con p<0.001, e indican que la madre y el padre vivos, aumenta la chance de que los alumnos aprueben matemáticas. El coeficiente es mayor para la madre que para el padre. Los coeficientes son más pequeños que antes, como si hubiera dependencia entre ambas variables. Podría ser que la población de aquellos que perdieron al padre y la madre esté menos representada en la universidad (?). "
   ]
  },
  {
   "cell_type": "markdown",
   "metadata": {},
   "source": [
    "## Modelo que incluya las variables trabajo y madre vive / padre vive\n",
    "\n",
    "Hacemos un modelo donde analizamos la nota de matemática, considerando si la alumna/o trabaja y si su madre y padre viven. De nuevo, la línea de base para trabajo son las alumnas que no trabajan ni buscan trabajo."
   ]
  },
  {
   "cell_type": "code",
   "execution_count": 52,
   "metadata": {},
   "outputs": [
    {
     "name": "stdout",
     "output_type": "stream",
     "text": [
      "Optimization terminated successfully.\n",
      "         Current function value: 0.626931\n",
      "         Iterations 5\n",
      "                           Logit Regression Results                           \n",
      "==============================================================================\n",
      "Dep. Variable:        nota_matematica   No. Observations:                 2707\n",
      "Model:                          Logit   Df Residuals:                     2702\n",
      "Method:                           MLE   Df Model:                            4\n",
      "Date:                Mon, 26 Aug 2019   Pseudo R-squ.:                 0.06809\n",
      "Time:                        21:03:33   Log-Likelihood:                -1697.1\n",
      "converged:                       True   LL-Null:                       -1821.1\n",
      "Covariance Type:            nonrobust   LLR p-value:                 1.743e-52\n",
      "==============================================================================\n",
      "                 coef    std err          z      P>|z|      [0.025      0.975]\n",
      "------------------------------------------------------------------------------\n",
      "const          0.1043      0.295      0.354      0.724      -0.473       0.682\n",
      "alm_Tr        -1.3757      0.104    -13.219      0.000      -1.580      -1.172\n",
      "alm_NoTr_B    -0.9934      0.102     -9.693      0.000      -1.194      -0.793\n",
      "madre_vive     0.6437      0.282      2.286      0.022       0.092       1.196\n",
      "padre_vive     0.2162      0.150      1.445      0.148      -0.077       0.509\n",
      "==============================================================================\n",
      "Optimization terminated successfully.\n",
      "         Current function value: 0.626931\n",
      "         Iterations 5\n",
      "LogisticRegression(C=1000000000.0, class_weight=None, dual=False,\n",
      "                   fit_intercept=True, intercept_scaling=1, l1_ratio=None,\n",
      "                   max_iter=100, multi_class='warn', n_jobs=None, penalty='l2',\n",
      "                   random_state=None, solver='warn', tol=0.0001, verbose=0,\n",
      "                   warm_start=False)\n",
      "coeficientes=  [[-1.37572522 -0.99339056  0.64374871  0.21613548]]\n",
      "intercepto=  [0.10430443]\n",
      "Accuracy en los datos: 0.66\n"
     ]
    },
    {
     "name": "stderr",
     "output_type": "stream",
     "text": [
      "/home/lucia/anaconda3/envs/diplodatos/lib/python3.7/site-packages/numpy/core/fromnumeric.py:2389: FutureWarning: Method .ptp is deprecated and will be removed in a future version. Use numpy.ptp instead.\n",
      "  return ptp(axis=axis, out=out, **kwargs)\n",
      "/home/lucia/anaconda3/envs/diplodatos/lib/python3.7/site-packages/sklearn/linear_model/logistic.py:432: FutureWarning: Default solver will be changed to 'lbfgs' in 0.22. Specify a solver to silence this warning.\n",
      "  FutureWarning)\n"
     ]
    },
    {
     "data": {
      "text/plain": [
       "()"
      ]
     },
     "execution_count": 52,
     "metadata": {},
     "output_type": "execute_result"
    }
   ],
   "source": [
    "y_data = data_sel['nota_matematica']\n",
    "x_data = data_sel[['alm_Tr' , 'alm_NoTr_B', 'madre_vive', 'padre_vive']]\n",
    "logit_st(x_data, y_data)\n",
    "logit_sk(x_data, y_data)"
   ]
  },
  {
   "cell_type": "markdown",
   "metadata": {},
   "source": [
    "### resultado trabajo, madre o padre viven\n",
    "\n",
    "Los coeficientes asociados a que las alumnas trabajen o busquen trabajo, son similares a los originales (negativos ambos). Por otro lado, que la madre viva, aumenta la probabilidad de que la alumna/o apruebe matemática también en este modelo que incluye más variables. Eso significa que, al menos en parte, el efecto de la variable madre_viva es independiente de la variable trabajo. En cambio, en este modelo, el coeficiente asociado a que el padre esté vivo no es distinto de 0. En los gráficos de barras ya veíamos que esta variable estaba correlacionada con la condición de trabajador del alumno. Y según el modelo de regresión logística no aporta información independiente. En el caso de la madre, el coeficiente se hace más pequeño que antes, pero subsiste. "
   ]
  },
  {
   "cell_type": "markdown",
   "metadata": {},
   "source": [
    "## Nivel de estudios de la madre y del padre \n",
    "\n",
    "Ajustamos un modelo de regresión logística para \"nota_matematica\" (var. dependiente) y como variables independientes el nivel de estudios de la madre:\n",
    "- 'niv_est_madre_0': desconoce\n",
    "- 'niv_est_madre_1': primario incompleto \n",
    "- 'niv_est_madre_2': primario completo secundario incompleto\n",
    "- 'niv_est_madre_3': secundario completo\n",
    "- 'niv_est_madre_4': superior incompleto/completo, universitario incompleto/completo, posgrado.\n",
    "\n",
    "Tomamos de línea de base el niv_est_madre_1"
   ]
  },
  {
   "cell_type": "code",
   "execution_count": 53,
   "metadata": {},
   "outputs": [
    {
     "name": "stdout",
     "output_type": "stream",
     "text": [
      "Optimization terminated successfully.\n",
      "         Current function value: 0.641481\n",
      "         Iterations 5\n",
      "                           Logit Regression Results                           \n",
      "==============================================================================\n",
      "Dep. Variable:        nota_matematica   No. Observations:                 2707\n",
      "Model:                          Logit   Df Residuals:                     2702\n",
      "Method:                           MLE   Df Model:                            4\n",
      "Date:                Mon, 26 Aug 2019   Pseudo R-squ.:                 0.04647\n",
      "Time:                        21:03:33   Log-Likelihood:                -1736.5\n",
      "converged:                       True   LL-Null:                       -1821.1\n",
      "Covariance Type:            nonrobust   LLR p-value:                 1.522e-35\n",
      "===================================================================================\n",
      "                      coef    std err          z      P>|z|      [0.025      0.975]\n",
      "-----------------------------------------------------------------------------------\n",
      "const              -0.5845      0.214     -2.731      0.006      -1.004      -0.165\n",
      "niv_est_madre_0    -0.5141      0.486     -1.058      0.290      -1.467       0.439\n",
      "niv_est_madre_2     0.2443      0.234      1.043      0.297      -0.215       0.703\n",
      "niv_est_madre_3     0.7643      0.230      3.323      0.001       0.313       1.215\n",
      "niv_est_madre_4     1.4148      0.221      6.402      0.000       0.982       1.848\n",
      "===================================================================================\n",
      "Optimization terminated successfully.\n",
      "         Current function value: 0.641481\n",
      "         Iterations 5\n",
      "LogisticRegression(C=1000000000.0, class_weight=None, dual=False,\n",
      "                   fit_intercept=True, intercept_scaling=1, l1_ratio=None,\n",
      "                   max_iter=100, multi_class='warn', n_jobs=None, penalty='l2',\n",
      "                   random_state=None, solver='warn', tol=0.0001, verbose=0,\n",
      "                   warm_start=False)\n",
      "coeficientes=  [[-0.51346735  0.2445777   0.76453807  1.41503193]]\n",
      "intercepto=  [-0.58478898]\n",
      "Accuracy en los datos: 0.64\n"
     ]
    },
    {
     "name": "stderr",
     "output_type": "stream",
     "text": [
      "/home/lucia/anaconda3/envs/diplodatos/lib/python3.7/site-packages/numpy/core/fromnumeric.py:2389: FutureWarning: Method .ptp is deprecated and will be removed in a future version. Use numpy.ptp instead.\n",
      "  return ptp(axis=axis, out=out, **kwargs)\n",
      "/home/lucia/anaconda3/envs/diplodatos/lib/python3.7/site-packages/numpy/core/fromnumeric.py:2389: FutureWarning: Method .ptp is deprecated and will be removed in a future version. Use numpy.ptp instead.\n",
      "  return ptp(axis=axis, out=out, **kwargs)\n",
      "/home/lucia/anaconda3/envs/diplodatos/lib/python3.7/site-packages/numpy/core/fromnumeric.py:2389: FutureWarning: Method .ptp is deprecated and will be removed in a future version. Use numpy.ptp instead.\n",
      "  return ptp(axis=axis, out=out, **kwargs)\n",
      "/home/lucia/anaconda3/envs/diplodatos/lib/python3.7/site-packages/numpy/core/fromnumeric.py:2389: FutureWarning: Method .ptp is deprecated and will be removed in a future version. Use numpy.ptp instead.\n",
      "  return ptp(axis=axis, out=out, **kwargs)\n",
      "/home/lucia/anaconda3/envs/diplodatos/lib/python3.7/site-packages/sklearn/linear_model/logistic.py:432: FutureWarning: Default solver will be changed to 'lbfgs' in 0.22. Specify a solver to silence this warning.\n",
      "  FutureWarning)\n"
     ]
    },
    {
     "data": {
      "text/plain": [
       "()"
      ]
     },
     "execution_count": 53,
     "metadata": {},
     "output_type": "execute_result"
    }
   ],
   "source": [
    "y_data = data_sel['nota_matematica']\n",
    "x_data = data_sel[['niv_est_madre_0', 'niv_est_madre_2','niv_est_madre_3', 'niv_est_madre_4']]\n",
    "logit_st(x_data, y_data)\n",
    "logit_sk(x_data, y_data)"
   ]
  },
  {
   "cell_type": "code",
   "execution_count": 54,
   "metadata": {},
   "outputs": [
    {
     "name": "stdout",
     "output_type": "stream",
     "text": [
      "Optimization terminated successfully.\n",
      "         Current function value: 0.645182\n",
      "         Iterations 5\n",
      "                           Logit Regression Results                           \n",
      "==============================================================================\n",
      "Dep. Variable:        nota_matematica   No. Observations:                 2707\n",
      "Model:                          Logit   Df Residuals:                     2702\n",
      "Method:                           MLE   Df Model:                            4\n",
      "Date:                Mon, 26 Aug 2019   Pseudo R-squ.:                 0.04097\n",
      "Time:                        21:03:33   Log-Likelihood:                -1746.5\n",
      "converged:                       True   LL-Null:                       -1821.1\n",
      "Covariance Type:            nonrobust   LLR p-value:                 3.015e-31\n",
      "===================================================================================\n",
      "                      coef    std err          z      P>|z|      [0.025      0.975]\n",
      "-----------------------------------------------------------------------------------\n",
      "const              -0.6466      0.186     -3.475      0.001      -1.011      -0.282\n",
      "niv_est_padre_0     0.4513      0.265      1.701      0.089      -0.069       0.971\n",
      "niv_est_padre_2     0.5796      0.203      2.862      0.004       0.183       0.977\n",
      "niv_est_padre_3     0.9774      0.202      4.838      0.000       0.581       1.373\n",
      "niv_est_padre_4     1.5731      0.197      7.984      0.000       1.187       1.959\n",
      "===================================================================================\n",
      "Optimization terminated successfully.\n",
      "         Current function value: 0.645182\n",
      "         Iterations 5\n",
      "LogisticRegression(C=1000000000.0, class_weight=None, dual=False,\n",
      "                   fit_intercept=True, intercept_scaling=1, l1_ratio=None,\n",
      "                   max_iter=100, multi_class='warn', n_jobs=None, penalty='l2',\n",
      "                   random_state=None, solver='warn', tol=0.0001, verbose=0,\n",
      "                   warm_start=False)\n",
      "coeficientes=  [[0.45130585 0.57960388 0.97741817 1.57306375]]\n",
      "intercepto=  [-0.64661459]\n",
      "Accuracy en los datos: 0.63\n"
     ]
    },
    {
     "name": "stderr",
     "output_type": "stream",
     "text": [
      "/home/lucia/anaconda3/envs/diplodatos/lib/python3.7/site-packages/numpy/core/fromnumeric.py:2389: FutureWarning: Method .ptp is deprecated and will be removed in a future version. Use numpy.ptp instead.\n",
      "  return ptp(axis=axis, out=out, **kwargs)\n",
      "/home/lucia/anaconda3/envs/diplodatos/lib/python3.7/site-packages/numpy/core/fromnumeric.py:2389: FutureWarning: Method .ptp is deprecated and will be removed in a future version. Use numpy.ptp instead.\n",
      "  return ptp(axis=axis, out=out, **kwargs)\n",
      "/home/lucia/anaconda3/envs/diplodatos/lib/python3.7/site-packages/numpy/core/fromnumeric.py:2389: FutureWarning: Method .ptp is deprecated and will be removed in a future version. Use numpy.ptp instead.\n",
      "  return ptp(axis=axis, out=out, **kwargs)\n",
      "/home/lucia/anaconda3/envs/diplodatos/lib/python3.7/site-packages/numpy/core/fromnumeric.py:2389: FutureWarning: Method .ptp is deprecated and will be removed in a future version. Use numpy.ptp instead.\n",
      "  return ptp(axis=axis, out=out, **kwargs)\n",
      "/home/lucia/anaconda3/envs/diplodatos/lib/python3.7/site-packages/sklearn/linear_model/logistic.py:432: FutureWarning: Default solver will be changed to 'lbfgs' in 0.22. Specify a solver to silence this warning.\n",
      "  FutureWarning)\n"
     ]
    },
    {
     "data": {
      "text/plain": [
       "()"
      ]
     },
     "execution_count": 54,
     "metadata": {},
     "output_type": "execute_result"
    }
   ],
   "source": [
    "y_data = data_sel['nota_matematica']\n",
    "x_data = data_sel[['niv_est_padre_0', 'niv_est_padre_2','niv_est_padre_3', 'niv_est_padre_4']]\n",
    "logit_st(x_data, y_data)\n",
    "logit_sk(x_data, y_data)"
   ]
  },
  {
   "cell_type": "code",
   "execution_count": 55,
   "metadata": {},
   "outputs": [
    {
     "name": "stderr",
     "output_type": "stream",
     "text": [
      "/home/lucia/anaconda3/envs/diplodatos/lib/python3.7/site-packages/numpy/core/fromnumeric.py:2389: FutureWarning: Method .ptp is deprecated and will be removed in a future version. Use numpy.ptp instead.\n",
      "  return ptp(axis=axis, out=out, **kwargs)\n",
      "/home/lucia/anaconda3/envs/diplodatos/lib/python3.7/site-packages/numpy/core/fromnumeric.py:2389: FutureWarning: Method .ptp is deprecated and will be removed in a future version. Use numpy.ptp instead.\n",
      "  return ptp(axis=axis, out=out, **kwargs)\n",
      "/home/lucia/anaconda3/envs/diplodatos/lib/python3.7/site-packages/numpy/core/fromnumeric.py:2389: FutureWarning: Method .ptp is deprecated and will be removed in a future version. Use numpy.ptp instead.\n",
      "  return ptp(axis=axis, out=out, **kwargs)\n",
      "/home/lucia/anaconda3/envs/diplodatos/lib/python3.7/site-packages/numpy/core/fromnumeric.py:2389: FutureWarning: Method .ptp is deprecated and will be removed in a future version. Use numpy.ptp instead.\n",
      "  return ptp(axis=axis, out=out, **kwargs)\n",
      "/home/lucia/anaconda3/envs/diplodatos/lib/python3.7/site-packages/numpy/core/fromnumeric.py:2389: FutureWarning: Method .ptp is deprecated and will be removed in a future version. Use numpy.ptp instead.\n",
      "  return ptp(axis=axis, out=out, **kwargs)\n",
      "/home/lucia/anaconda3/envs/diplodatos/lib/python3.7/site-packages/numpy/core/fromnumeric.py:2389: FutureWarning: Method .ptp is deprecated and will be removed in a future version. Use numpy.ptp instead.\n",
      "  return ptp(axis=axis, out=out, **kwargs)\n",
      "/home/lucia/anaconda3/envs/diplodatos/lib/python3.7/site-packages/numpy/core/fromnumeric.py:2389: FutureWarning: Method .ptp is deprecated and will be removed in a future version. Use numpy.ptp instead.\n",
      "  return ptp(axis=axis, out=out, **kwargs)\n",
      "/home/lucia/anaconda3/envs/diplodatos/lib/python3.7/site-packages/numpy/core/fromnumeric.py:2389: FutureWarning: Method .ptp is deprecated and will be removed in a future version. Use numpy.ptp instead.\n",
      "  return ptp(axis=axis, out=out, **kwargs)\n"
     ]
    },
    {
     "name": "stdout",
     "output_type": "stream",
     "text": [
      "Optimization terminated successfully.\n",
      "         Current function value: 0.632485\n",
      "         Iterations 5\n",
      "                           Logit Regression Results                           \n",
      "==============================================================================\n",
      "Dep. Variable:        nota_matematica   No. Observations:                 2707\n",
      "Model:                          Logit   Df Residuals:                     2698\n",
      "Method:                           MLE   Df Model:                            8\n",
      "Date:                Mon, 26 Aug 2019   Pseudo R-squ.:                 0.05984\n",
      "Time:                        21:03:33   Log-Likelihood:                -1712.1\n",
      "converged:                       True   LL-Null:                       -1821.1\n",
      "Covariance Type:            nonrobust   LLR p-value:                 1.046e-42\n",
      "===================================================================================\n",
      "                      coef    std err          z      P>|z|      [0.025      0.975]\n",
      "-----------------------------------------------------------------------------------\n",
      "const              -0.8466      0.241     -3.518      0.000      -1.318      -0.375\n",
      "niv_est_madre_0    -0.7597      0.511     -1.486      0.137      -1.761       0.242\n",
      "niv_est_madre_2    -0.0185      0.255     -0.072      0.942      -0.519       0.482\n",
      "niv_est_madre_3     0.3640      0.256      1.423      0.155      -0.137       0.865\n",
      "niv_est_madre_4     0.8382      0.250      3.348      0.001       0.347       1.329\n",
      "niv_est_padre_0     0.2995      0.289      1.036      0.300      -0.267       0.866\n",
      "niv_est_padre_2     0.4147      0.223      1.861      0.063      -0.022       0.851\n",
      "niv_est_padre_3     0.6663      0.226      2.952      0.003       0.224       1.109\n",
      "niv_est_padre_4     1.0612      0.225      4.722      0.000       0.621       1.502\n",
      "===================================================================================\n",
      "Optimization terminated successfully.\n",
      "         Current function value: 0.632485\n",
      "         Iterations 5\n",
      "LogisticRegression(C=1000000000.0, class_weight=None, dual=False,\n",
      "                   fit_intercept=True, intercept_scaling=1, l1_ratio=None,\n",
      "                   max_iter=100, multi_class='warn', n_jobs=None, penalty='l2',\n",
      "                   random_state=None, solver='warn', tol=0.0001, verbose=0,\n",
      "                   warm_start=False)\n",
      "coeficientes=  [[-0.75845065 -0.01821483  0.36421862  0.83836558  0.30084688  0.41586636\n",
      "   0.66750483  1.06240579]]\n",
      "intercepto=  [-0.84787898]\n",
      "Accuracy en los datos: 0.66\n"
     ]
    },
    {
     "name": "stderr",
     "output_type": "stream",
     "text": [
      "/home/lucia/anaconda3/envs/diplodatos/lib/python3.7/site-packages/sklearn/linear_model/logistic.py:432: FutureWarning: Default solver will be changed to 'lbfgs' in 0.22. Specify a solver to silence this warning.\n",
      "  FutureWarning)\n"
     ]
    },
    {
     "data": {
      "text/plain": [
       "()"
      ]
     },
     "execution_count": 55,
     "metadata": {},
     "output_type": "execute_result"
    }
   ],
   "source": [
    "y_data = data_sel['nota_matematica']\n",
    "x_data = data_sel[['niv_est_madre_0', 'niv_est_madre_2','niv_est_madre_3', 'niv_est_madre_4',\n",
    "                   'niv_est_padre_0', 'niv_est_padre_2','niv_est_padre_3', 'niv_est_padre_4',]]\n",
    "logit_st(x_data, y_data)\n",
    "logit_sk(x_data, y_data)"
   ]
  },
  {
   "cell_type": "markdown",
   "metadata": {},
   "source": [
    "### resultado estudios, madre o padre\n",
    "\n",
    "La categoria estudios_0 son los que registraron \"desconoce\", entonces es dificil analizarla. Tomamos como referencia (es decir, no incluimos la categoría estudios_1: primario incompleto). Respecto a ese grupo, el nivel de estudios de la madre y del padre aumenta la probabilidad de que el alumno apruebe matemática (los coeficientes son positivos y aumentan progresivamente con el nivel de estudios). En el caso de la madre no hay diferencia (significativa) entre las madres con primario incompleto y primario completo. En el caso del padre esos grupos sí son distintos.\n",
    "Cuando incluímos todas las variables en el modelo, todos los coeficientes se hacen más pequeños (más próximos a 0). Eso significa que hay interdependencia entre las variables (el nivel de estudios de la madre y del padre están correlacionados). En este caso, niv_est_madre_1==niv_est_madre_2==niv_est_madre_3, y niv_est_padre_1==niv_est_padre_2"
   ]
  },
  {
   "cell_type": "markdown",
   "metadata": {},
   "source": [
    "## Trabajo y nivel de estudios de la madre y del padre \n"
   ]
  },
  {
   "cell_type": "code",
   "execution_count": 56,
   "metadata": {},
   "outputs": [
    {
     "name": "stdout",
     "output_type": "stream",
     "text": [
      "Optimization terminated successfully.\n",
      "         Current function value: 0.605127\n",
      "         Iterations 5\n",
      "                           Logit Regression Results                           \n",
      "==============================================================================\n",
      "Dep. Variable:        nota_matematica   No. Observations:                 2707\n",
      "Model:                          Logit   Df Residuals:                     2696\n",
      "Method:                           MLE   Df Model:                           10\n",
      "Date:                Mon, 26 Aug 2019   Pseudo R-squ.:                  0.1005\n",
      "Time:                        21:03:33   Log-Likelihood:                -1638.1\n",
      "converged:                       True   LL-Null:                       -1821.1\n",
      "Covariance Type:            nonrobust   LLR p-value:                 1.549e-72\n",
      "===================================================================================\n",
      "                      coef    std err          z      P>|z|      [0.025      0.975]\n",
      "-----------------------------------------------------------------------------------\n",
      "const               0.0367      0.256      0.144      0.886      -0.465       0.538\n",
      "alm_Tr             -1.1976      0.107    -11.199      0.000      -1.407      -0.988\n",
      "alm_NoTr_B         -0.8209      0.106     -7.752      0.000      -1.029      -0.613\n",
      "niv_est_madre_0    -0.9872      0.525     -1.880      0.060      -2.017       0.042\n",
      "niv_est_madre_2    -0.1796      0.263     -0.683      0.494      -0.695       0.335\n",
      "niv_est_madre_3     0.1038      0.264      0.394      0.694      -0.413       0.621\n",
      "niv_est_madre_4     0.4902      0.259      1.895      0.058      -0.017       0.997\n",
      "niv_est_padre_0     0.1867      0.298      0.626      0.531      -0.398       0.771\n",
      "niv_est_padre_2     0.2926      0.229      1.276      0.202      -0.157       0.742\n",
      "niv_est_padre_3     0.5154      0.232      2.217      0.027       0.060       0.971\n",
      "niv_est_padre_4     0.8542      0.231      3.691      0.000       0.401       1.308\n",
      "===================================================================================\n",
      "Optimization terminated successfully.\n",
      "         Current function value: 0.605127\n",
      "         Iterations 5\n",
      "LogisticRegression(C=1000000000.0, class_weight=None, dual=False,\n",
      "                   fit_intercept=True, intercept_scaling=1, l1_ratio=None,\n",
      "                   max_iter=100, multi_class='warn', n_jobs=None, penalty='l2',\n",
      "                   random_state=None, solver='warn', tol=0.0001, verbose=0,\n",
      "                   warm_start=False)\n",
      "coeficientes=  [[-1.19764786 -0.82097744 -0.98564884 -0.17994115  0.10348223  0.48981813\n",
      "   0.1861849   0.29231981  0.51507161  0.8539313 ]]\n",
      "intercepto=  [0.03738517]\n",
      "Accuracy en los datos: 0.67\n"
     ]
    },
    {
     "name": "stderr",
     "output_type": "stream",
     "text": [
      "/home/lucia/anaconda3/envs/diplodatos/lib/python3.7/site-packages/numpy/core/fromnumeric.py:2389: FutureWarning: Method .ptp is deprecated and will be removed in a future version. Use numpy.ptp instead.\n",
      "  return ptp(axis=axis, out=out, **kwargs)\n",
      "/home/lucia/anaconda3/envs/diplodatos/lib/python3.7/site-packages/numpy/core/fromnumeric.py:2389: FutureWarning: Method .ptp is deprecated and will be removed in a future version. Use numpy.ptp instead.\n",
      "  return ptp(axis=axis, out=out, **kwargs)\n",
      "/home/lucia/anaconda3/envs/diplodatos/lib/python3.7/site-packages/numpy/core/fromnumeric.py:2389: FutureWarning: Method .ptp is deprecated and will be removed in a future version. Use numpy.ptp instead.\n",
      "  return ptp(axis=axis, out=out, **kwargs)\n",
      "/home/lucia/anaconda3/envs/diplodatos/lib/python3.7/site-packages/numpy/core/fromnumeric.py:2389: FutureWarning: Method .ptp is deprecated and will be removed in a future version. Use numpy.ptp instead.\n",
      "  return ptp(axis=axis, out=out, **kwargs)\n",
      "/home/lucia/anaconda3/envs/diplodatos/lib/python3.7/site-packages/numpy/core/fromnumeric.py:2389: FutureWarning: Method .ptp is deprecated and will be removed in a future version. Use numpy.ptp instead.\n",
      "  return ptp(axis=axis, out=out, **kwargs)\n",
      "/home/lucia/anaconda3/envs/diplodatos/lib/python3.7/site-packages/numpy/core/fromnumeric.py:2389: FutureWarning: Method .ptp is deprecated and will be removed in a future version. Use numpy.ptp instead.\n",
      "  return ptp(axis=axis, out=out, **kwargs)\n",
      "/home/lucia/anaconda3/envs/diplodatos/lib/python3.7/site-packages/numpy/core/fromnumeric.py:2389: FutureWarning: Method .ptp is deprecated and will be removed in a future version. Use numpy.ptp instead.\n",
      "  return ptp(axis=axis, out=out, **kwargs)\n",
      "/home/lucia/anaconda3/envs/diplodatos/lib/python3.7/site-packages/numpy/core/fromnumeric.py:2389: FutureWarning: Method .ptp is deprecated and will be removed in a future version. Use numpy.ptp instead.\n",
      "  return ptp(axis=axis, out=out, **kwargs)\n",
      "/home/lucia/anaconda3/envs/diplodatos/lib/python3.7/site-packages/numpy/core/fromnumeric.py:2389: FutureWarning: Method .ptp is deprecated and will be removed in a future version. Use numpy.ptp instead.\n",
      "  return ptp(axis=axis, out=out, **kwargs)\n",
      "/home/lucia/anaconda3/envs/diplodatos/lib/python3.7/site-packages/numpy/core/fromnumeric.py:2389: FutureWarning: Method .ptp is deprecated and will be removed in a future version. Use numpy.ptp instead.\n",
      "  return ptp(axis=axis, out=out, **kwargs)\n",
      "/home/lucia/anaconda3/envs/diplodatos/lib/python3.7/site-packages/sklearn/linear_model/logistic.py:432: FutureWarning: Default solver will be changed to 'lbfgs' in 0.22. Specify a solver to silence this warning.\n",
      "  FutureWarning)\n"
     ]
    },
    {
     "data": {
      "text/plain": [
       "()"
      ]
     },
     "execution_count": 56,
     "metadata": {},
     "output_type": "execute_result"
    }
   ],
   "source": [
    "y_data = data_sel['nota_matematica']\n",
    "x_data = data_sel[['alm_Tr' , 'alm_NoTr_B',\n",
    "                   'niv_est_madre_0', 'niv_est_madre_2','niv_est_madre_3', 'niv_est_madre_4',\n",
    "                   'niv_est_padre_0', 'niv_est_padre_2','niv_est_padre_3', 'niv_est_padre_4',]]\n",
    "logit_st(x_data, y_data)\n",
    "logit_sk(x_data, y_data)"
   ]
  },
  {
   "cell_type": "markdown",
   "metadata": {},
   "source": [
    "### resultado trabajo y estudios, madre o padre\n",
    "En este caso, ya habíamos observado en los gráficos de barra que había correlación entre el nivel de estudio de la madre y padre y la condición de alumno trabajador. Vemos que al incluir todas las variables, se mantiene la tendencia con el nivel de estudios pero disminuye aún más el valor de los coeficientes. En el caso de las variables correspondiente a la madre ninguno es significativo (p<0.05). Para el padre sí (los alumnos con padres que terminan el secundario, y los que tienen estudios superiores, tienen más chance de aprobar matemáticas)."
   ]
  },
  {
   "cell_type": "markdown",
   "metadata": {},
   "source": [
    "## Trabajo de la madre y del padre \n",
    "Tomamos como línea de base el grupo de madre o padres que no trabajan. La categoría desconoce no sabemos cómo está compuesta. "
   ]
  },
  {
   "cell_type": "code",
   "execution_count": 57,
   "metadata": {},
   "outputs": [
    {
     "name": "stderr",
     "output_type": "stream",
     "text": [
      "/home/lucia/anaconda3/envs/diplodatos/lib/python3.7/site-packages/numpy/core/fromnumeric.py:2389: FutureWarning: Method .ptp is deprecated and will be removed in a future version. Use numpy.ptp instead.\n",
      "  return ptp(axis=axis, out=out, **kwargs)\n",
      "/home/lucia/anaconda3/envs/diplodatos/lib/python3.7/site-packages/numpy/core/fromnumeric.py:2389: FutureWarning: Method .ptp is deprecated and will be removed in a future version. Use numpy.ptp instead.\n",
      "  return ptp(axis=axis, out=out, **kwargs)\n",
      "/home/lucia/anaconda3/envs/diplodatos/lib/python3.7/site-packages/numpy/core/fromnumeric.py:2389: FutureWarning: Method .ptp is deprecated and will be removed in a future version. Use numpy.ptp instead.\n",
      "  return ptp(axis=axis, out=out, **kwargs)\n"
     ]
    },
    {
     "name": "stdout",
     "output_type": "stream",
     "text": [
      "Optimization terminated successfully.\n",
      "         Current function value: 0.664005\n",
      "         Iterations 4\n",
      "                           Logit Regression Results                           \n",
      "==============================================================================\n",
      "Dep. Variable:        nota_matematica   No. Observations:                 2707\n",
      "Model:                          Logit   Df Residuals:                     2703\n",
      "Method:                           MLE   Df Model:                            3\n",
      "Date:                Mon, 26 Aug 2019   Pseudo R-squ.:                 0.01299\n",
      "Time:                        21:03:33   Log-Likelihood:                -1797.5\n",
      "converged:                       True   LL-Null:                       -1821.1\n",
      "Covariance Type:            nonrobust   LLR p-value:                 3.004e-10\n",
      "===================================================================================\n",
      "                      coef    std err          z      P>|z|      [0.025      0.975]\n",
      "-----------------------------------------------------------------------------------\n",
      "const              -0.0559      0.106     -0.528      0.597      -0.263       0.151\n",
      "madre_Desconoce     0.2635      0.130      2.022      0.043       0.008       0.519\n",
      "madre_NoTr_B        0.1671      0.220      0.760      0.447      -0.264       0.598\n",
      "madre_Tr            0.6942      0.119      5.858      0.000       0.462       0.926\n",
      "===================================================================================\n",
      "Optimization terminated successfully.\n",
      "         Current function value: 0.664005\n",
      "         Iterations 4\n",
      "LogisticRegression(C=1000000000.0, class_weight=None, dual=False,\n",
      "                   fit_intercept=True, intercept_scaling=1, l1_ratio=None,\n",
      "                   max_iter=100, multi_class='warn', n_jobs=None, penalty='l2',\n",
      "                   random_state=None, solver='warn', tol=0.0001, verbose=0,\n",
      "                   warm_start=False)\n",
      "coeficientes=  [[0.2635161  0.16703894 0.69417642]]\n",
      "intercepto=  [-0.05587713]\n",
      "Accuracy en los datos: 0.60\n"
     ]
    },
    {
     "name": "stderr",
     "output_type": "stream",
     "text": [
      "/home/lucia/anaconda3/envs/diplodatos/lib/python3.7/site-packages/sklearn/linear_model/logistic.py:432: FutureWarning: Default solver will be changed to 'lbfgs' in 0.22. Specify a solver to silence this warning.\n",
      "  FutureWarning)\n"
     ]
    },
    {
     "data": {
      "text/plain": [
       "()"
      ]
     },
     "execution_count": 57,
     "metadata": {},
     "output_type": "execute_result"
    }
   ],
   "source": [
    "y_data = data_sel['nota_matematica']\n",
    "x_data = data_sel[['madre_Desconoce', 'madre_NoTr_B', 'madre_Tr']]\n",
    "logit_st(x_data, y_data)\n",
    "logit_sk(x_data, y_data)"
   ]
  },
  {
   "cell_type": "code",
   "execution_count": 58,
   "metadata": {},
   "outputs": [
    {
     "name": "stdout",
     "output_type": "stream",
     "text": [
      "Optimization terminated successfully.\n",
      "         Current function value: 0.665925\n",
      "         Iterations 4\n",
      "                           Logit Regression Results                           \n",
      "==============================================================================\n",
      "Dep. Variable:        nota_matematica   No. Observations:                 2707\n",
      "Model:                          Logit   Df Residuals:                     2703\n",
      "Method:                           MLE   Df Model:                            3\n",
      "Date:                Mon, 26 Aug 2019   Pseudo R-squ.:                 0.01013\n",
      "Time:                        21:03:34   Log-Likelihood:                -1802.7\n",
      "converged:                       True   LL-Null:                       -1821.1\n",
      "Covariance Type:            nonrobust   LLR p-value:                 4.831e-08\n",
      "===================================================================================\n",
      "                      coef    std err          z      P>|z|      [0.025      0.975]\n",
      "-----------------------------------------------------------------------------------\n",
      "const              -0.1911      0.219     -0.872      0.383      -0.621       0.239\n",
      "padre_Desconoce     0.3474      0.230      1.512      0.131      -0.103       0.798\n",
      "padre_NoTr_B       -0.1143      0.415     -0.276      0.783      -0.927       0.699\n",
      "padre_Tr            0.7710      0.225      3.429      0.001       0.330       1.212\n",
      "===================================================================================\n",
      "Optimization terminated successfully.\n",
      "         Current function value: 0.665925\n",
      "         Iterations 4\n",
      "LogisticRegression(C=1000000000.0, class_weight=None, dual=False,\n",
      "                   fit_intercept=True, intercept_scaling=1, l1_ratio=None,\n",
      "                   max_iter=100, multi_class='warn', n_jobs=None, penalty='l2',\n",
      "                   random_state=None, solver='warn', tol=0.0001, verbose=0,\n",
      "                   warm_start=False)\n",
      "coeficientes=  [[ 0.34680002 -0.11442373  0.77041721]]\n",
      "intercepto=  [-0.19047947]\n",
      "Accuracy en los datos: 0.61\n"
     ]
    },
    {
     "name": "stderr",
     "output_type": "stream",
     "text": [
      "/home/lucia/anaconda3/envs/diplodatos/lib/python3.7/site-packages/numpy/core/fromnumeric.py:2389: FutureWarning: Method .ptp is deprecated and will be removed in a future version. Use numpy.ptp instead.\n",
      "  return ptp(axis=axis, out=out, **kwargs)\n",
      "/home/lucia/anaconda3/envs/diplodatos/lib/python3.7/site-packages/numpy/core/fromnumeric.py:2389: FutureWarning: Method .ptp is deprecated and will be removed in a future version. Use numpy.ptp instead.\n",
      "  return ptp(axis=axis, out=out, **kwargs)\n",
      "/home/lucia/anaconda3/envs/diplodatos/lib/python3.7/site-packages/numpy/core/fromnumeric.py:2389: FutureWarning: Method .ptp is deprecated and will be removed in a future version. Use numpy.ptp instead.\n",
      "  return ptp(axis=axis, out=out, **kwargs)\n",
      "/home/lucia/anaconda3/envs/diplodatos/lib/python3.7/site-packages/sklearn/linear_model/logistic.py:432: FutureWarning: Default solver will be changed to 'lbfgs' in 0.22. Specify a solver to silence this warning.\n",
      "  FutureWarning)\n"
     ]
    },
    {
     "data": {
      "text/plain": [
       "()"
      ]
     },
     "execution_count": 58,
     "metadata": {},
     "output_type": "execute_result"
    }
   ],
   "source": [
    "y_data = data_sel['nota_matematica']\n",
    "x_data = data_sel[['padre_Desconoce', 'padre_NoTr_B', 'padre_Tr']]\n",
    "logit_st(x_data, y_data)\n",
    "logit_sk(x_data, y_data)"
   ]
  },
  {
   "cell_type": "code",
   "execution_count": 59,
   "metadata": {},
   "outputs": [
    {
     "name": "stderr",
     "output_type": "stream",
     "text": [
      "/home/lucia/anaconda3/envs/diplodatos/lib/python3.7/site-packages/numpy/core/fromnumeric.py:2389: FutureWarning: Method .ptp is deprecated and will be removed in a future version. Use numpy.ptp instead.\n",
      "  return ptp(axis=axis, out=out, **kwargs)\n",
      "/home/lucia/anaconda3/envs/diplodatos/lib/python3.7/site-packages/numpy/core/fromnumeric.py:2389: FutureWarning: Method .ptp is deprecated and will be removed in a future version. Use numpy.ptp instead.\n",
      "  return ptp(axis=axis, out=out, **kwargs)\n",
      "/home/lucia/anaconda3/envs/diplodatos/lib/python3.7/site-packages/numpy/core/fromnumeric.py:2389: FutureWarning: Method .ptp is deprecated and will be removed in a future version. Use numpy.ptp instead.\n",
      "  return ptp(axis=axis, out=out, **kwargs)\n",
      "/home/lucia/anaconda3/envs/diplodatos/lib/python3.7/site-packages/numpy/core/fromnumeric.py:2389: FutureWarning: Method .ptp is deprecated and will be removed in a future version. Use numpy.ptp instead.\n",
      "  return ptp(axis=axis, out=out, **kwargs)\n",
      "/home/lucia/anaconda3/envs/diplodatos/lib/python3.7/site-packages/numpy/core/fromnumeric.py:2389: FutureWarning: Method .ptp is deprecated and will be removed in a future version. Use numpy.ptp instead.\n",
      "  return ptp(axis=axis, out=out, **kwargs)\n",
      "/home/lucia/anaconda3/envs/diplodatos/lib/python3.7/site-packages/numpy/core/fromnumeric.py:2389: FutureWarning: Method .ptp is deprecated and will be removed in a future version. Use numpy.ptp instead.\n",
      "  return ptp(axis=axis, out=out, **kwargs)\n"
     ]
    },
    {
     "name": "stdout",
     "output_type": "stream",
     "text": [
      "Optimization terminated successfully.\n",
      "         Current function value: 0.660412\n",
      "         Iterations 4\n",
      "                           Logit Regression Results                           \n",
      "==============================================================================\n",
      "Dep. Variable:        nota_matematica   No. Observations:                 2707\n",
      "Model:                          Logit   Df Residuals:                     2700\n",
      "Method:                           MLE   Df Model:                            6\n",
      "Date:                Mon, 26 Aug 2019   Pseudo R-squ.:                 0.01833\n",
      "Time:                        21:03:34   Log-Likelihood:                -1787.7\n",
      "converged:                       True   LL-Null:                       -1821.1\n",
      "Covariance Type:            nonrobust   LLR p-value:                 1.893e-12\n",
      "===================================================================================\n",
      "                      coef    std err          z      P>|z|      [0.025      0.975]\n",
      "-----------------------------------------------------------------------------------\n",
      "const              -0.4610      0.228     -2.018      0.044      -0.909      -0.013\n",
      "madre_Desconoce     0.4429      0.153      2.898      0.004       0.143       0.742\n",
      "madre_NoTr_B        0.1742      0.224      0.778      0.436      -0.265       0.613\n",
      "madre_Tr            0.6327      0.121      5.208      0.000       0.395       0.871\n",
      "padre_Desconoce     0.1681      0.248      0.678      0.497      -0.317       0.654\n",
      "padre_NoTr_B       -0.3079      0.423     -0.727      0.467      -1.138       0.522\n",
      "padre_Tr            0.5389      0.232      2.325      0.020       0.085       0.993\n",
      "===================================================================================\n",
      "Optimization terminated successfully.\n",
      "         Current function value: 0.660412\n",
      "         Iterations 4\n",
      "LogisticRegression(C=1000000000.0, class_weight=None, dual=False,\n",
      "                   fit_intercept=True, intercept_scaling=1, l1_ratio=None,\n",
      "                   max_iter=100, multi_class='warn', n_jobs=None, penalty='l2',\n",
      "                   random_state=None, solver='warn', tol=0.0001, verbose=0,\n",
      "                   warm_start=False)\n",
      "coeficientes=  [[ 0.44296843  0.17468209  0.63285399  0.16842824 -0.30859625  0.53922721]]\n",
      "intercepto=  [-0.46146899]\n",
      "Accuracy en los datos: 0.61\n"
     ]
    },
    {
     "name": "stderr",
     "output_type": "stream",
     "text": [
      "/home/lucia/anaconda3/envs/diplodatos/lib/python3.7/site-packages/sklearn/linear_model/logistic.py:432: FutureWarning: Default solver will be changed to 'lbfgs' in 0.22. Specify a solver to silence this warning.\n",
      "  FutureWarning)\n"
     ]
    },
    {
     "data": {
      "text/plain": [
       "()"
      ]
     },
     "execution_count": 59,
     "metadata": {},
     "output_type": "execute_result"
    }
   ],
   "source": [
    "y_data = data_sel['nota_matematica']\n",
    "x_data = data_sel[['madre_Desconoce', 'madre_NoTr_B', 'madre_Tr',\n",
    "                   'padre_Desconoce', 'padre_NoTr_B', 'padre_Tr']]\n",
    "logit_st(x_data, y_data)\n",
    "logit_sk(x_data, y_data)"
   ]
  },
  {
   "cell_type": "markdown",
   "metadata": {},
   "source": [
    "### resultado trabajo madre o padre\n",
    "Que el padre y que la madre trabajen se correlaciona con mayor probabilidad de que la alumna/o aprueben matemática. No es diferente la condición de no trabajar a la de no trabajar y buscar trabajo. Cuando se incluye madre y padre, los coeficientes disminuyen (indicando que hay alguna correlación entre que el padre y que la madre tengan o no trabajo), pero siguen siendo positivos."
   ]
  },
  {
   "cell_type": "markdown",
   "metadata": {},
   "source": [
    "## Trabajo alumno y trabajo de la madre y del padre "
   ]
  },
  {
   "cell_type": "code",
   "execution_count": 60,
   "metadata": {},
   "outputs": [
    {
     "name": "stdout",
     "output_type": "stream",
     "text": [
      "Optimization terminated successfully.\n",
      "         Current function value: 0.625285\n",
      "         Iterations 5\n",
      "                           Logit Regression Results                           \n",
      "==============================================================================\n",
      "Dep. Variable:        nota_matematica   No. Observations:                 2707\n",
      "Model:                          Logit   Df Residuals:                     2701\n",
      "Method:                           MLE   Df Model:                            5\n",
      "Date:                Mon, 26 Aug 2019   Pseudo R-squ.:                 0.07054\n",
      "Time:                        21:03:34   Log-Likelihood:                -1692.6\n",
      "converged:                       True   LL-Null:                       -1821.1\n",
      "Covariance Type:            nonrobust   LLR p-value:                 1.790e-53\n",
      "===================================================================================\n",
      "                      coef    std err          z      P>|z|      [0.025      0.975]\n",
      "-----------------------------------------------------------------------------------\n",
      "const               0.4200      0.233      1.801      0.072      -0.037       0.877\n",
      "alm_Tr             -1.3842      0.103    -13.392      0.000      -1.587      -1.182\n",
      "alm_NoTr_B         -0.9682      0.103     -9.411      0.000      -1.170      -0.767\n",
      "padre_Desconoce     0.3457      0.241      1.437      0.151      -0.126       0.817\n",
      "padre_NoTr_B       -0.1183      0.431     -0.274      0.784      -0.963       0.727\n",
      "padre_Tr            0.6257      0.235      2.657      0.008       0.164       1.087\n",
      "===================================================================================\n",
      "Optimization terminated successfully.\n",
      "         Current function value: 0.625285\n",
      "         Iterations 5\n",
      "LogisticRegression(C=1000000000.0, class_weight=None, dual=False,\n",
      "                   fit_intercept=True, intercept_scaling=1, l1_ratio=None,\n",
      "                   max_iter=100, multi_class='warn', n_jobs=None, penalty='l2',\n",
      "                   random_state=None, solver='warn', tol=0.0001, verbose=0,\n",
      "                   warm_start=False)\n",
      "coeficientes=  [[-1.38406345 -0.96806043  0.34568944 -0.11797721  0.62562661]]\n",
      "intercepto=  [0.41998489]\n",
      "Accuracy en los datos: 0.66\n"
     ]
    },
    {
     "name": "stderr",
     "output_type": "stream",
     "text": [
      "/home/lucia/anaconda3/envs/diplodatos/lib/python3.7/site-packages/numpy/core/fromnumeric.py:2389: FutureWarning: Method .ptp is deprecated and will be removed in a future version. Use numpy.ptp instead.\n",
      "  return ptp(axis=axis, out=out, **kwargs)\n",
      "/home/lucia/anaconda3/envs/diplodatos/lib/python3.7/site-packages/numpy/core/fromnumeric.py:2389: FutureWarning: Method .ptp is deprecated and will be removed in a future version. Use numpy.ptp instead.\n",
      "  return ptp(axis=axis, out=out, **kwargs)\n",
      "/home/lucia/anaconda3/envs/diplodatos/lib/python3.7/site-packages/numpy/core/fromnumeric.py:2389: FutureWarning: Method .ptp is deprecated and will be removed in a future version. Use numpy.ptp instead.\n",
      "  return ptp(axis=axis, out=out, **kwargs)\n",
      "/home/lucia/anaconda3/envs/diplodatos/lib/python3.7/site-packages/numpy/core/fromnumeric.py:2389: FutureWarning: Method .ptp is deprecated and will be removed in a future version. Use numpy.ptp instead.\n",
      "  return ptp(axis=axis, out=out, **kwargs)\n",
      "/home/lucia/anaconda3/envs/diplodatos/lib/python3.7/site-packages/numpy/core/fromnumeric.py:2389: FutureWarning: Method .ptp is deprecated and will be removed in a future version. Use numpy.ptp instead.\n",
      "  return ptp(axis=axis, out=out, **kwargs)\n",
      "/home/lucia/anaconda3/envs/diplodatos/lib/python3.7/site-packages/sklearn/linear_model/logistic.py:432: FutureWarning: Default solver will be changed to 'lbfgs' in 0.22. Specify a solver to silence this warning.\n",
      "  FutureWarning)\n"
     ]
    },
    {
     "data": {
      "text/plain": [
       "()"
      ]
     },
     "execution_count": 60,
     "metadata": {},
     "output_type": "execute_result"
    }
   ],
   "source": [
    "y_data = data_sel['nota_matematica']\n",
    "x_data = data_sel[['alm_Tr' , 'alm_NoTr_B','padre_Desconoce', 'padre_NoTr_B', 'padre_Tr']]\n",
    "logit_st(x_data, y_data)\n",
    "logit_sk(x_data, y_data)"
   ]
  },
  {
   "cell_type": "code",
   "execution_count": 61,
   "metadata": {},
   "outputs": [
    {
     "name": "stderr",
     "output_type": "stream",
     "text": [
      "/home/lucia/anaconda3/envs/diplodatos/lib/python3.7/site-packages/numpy/core/fromnumeric.py:2389: FutureWarning: Method .ptp is deprecated and will be removed in a future version. Use numpy.ptp instead.\n",
      "  return ptp(axis=axis, out=out, **kwargs)\n",
      "/home/lucia/anaconda3/envs/diplodatos/lib/python3.7/site-packages/numpy/core/fromnumeric.py:2389: FutureWarning: Method .ptp is deprecated and will be removed in a future version. Use numpy.ptp instead.\n",
      "  return ptp(axis=axis, out=out, **kwargs)\n",
      "/home/lucia/anaconda3/envs/diplodatos/lib/python3.7/site-packages/numpy/core/fromnumeric.py:2389: FutureWarning: Method .ptp is deprecated and will be removed in a future version. Use numpy.ptp instead.\n",
      "  return ptp(axis=axis, out=out, **kwargs)\n",
      "/home/lucia/anaconda3/envs/diplodatos/lib/python3.7/site-packages/numpy/core/fromnumeric.py:2389: FutureWarning: Method .ptp is deprecated and will be removed in a future version. Use numpy.ptp instead.\n",
      "  return ptp(axis=axis, out=out, **kwargs)\n",
      "/home/lucia/anaconda3/envs/diplodatos/lib/python3.7/site-packages/numpy/core/fromnumeric.py:2389: FutureWarning: Method .ptp is deprecated and will be removed in a future version. Use numpy.ptp instead.\n",
      "  return ptp(axis=axis, out=out, **kwargs)\n"
     ]
    },
    {
     "name": "stdout",
     "output_type": "stream",
     "text": [
      "Optimization terminated successfully.\n",
      "         Current function value: 0.623437\n",
      "         Iterations 5\n",
      "                           Logit Regression Results                           \n",
      "==============================================================================\n",
      "Dep. Variable:        nota_matematica   No. Observations:                 2707\n",
      "Model:                          Logit   Df Residuals:                     2701\n",
      "Method:                           MLE   Df Model:                            5\n",
      "Date:                Mon, 26 Aug 2019   Pseudo R-squ.:                 0.07329\n",
      "Time:                        21:03:34   Log-Likelihood:                -1687.6\n",
      "converged:                       True   LL-Null:                       -1821.1\n",
      "Covariance Type:            nonrobust   LLR p-value:                 1.275e-55\n",
      "===================================================================================\n",
      "                      coef    std err          z      P>|z|      [0.025      0.975]\n",
      "-----------------------------------------------------------------------------------\n",
      "const               0.5123      0.117      4.367      0.000       0.282       0.742\n",
      "alm_Tr             -1.3772      0.103    -13.320      0.000      -1.580      -1.175\n",
      "alm_NoTr_B         -0.9855      0.104     -9.511      0.000      -1.189      -0.782\n",
      "madre_Desconoce     0.2661      0.137      1.949      0.051      -0.002       0.534\n",
      "madre_NoTr_B        0.3460      0.230      1.505      0.132      -0.105       0.797\n",
      "madre_Tr            0.5943      0.124      4.791      0.000       0.351       0.837\n",
      "===================================================================================\n",
      "Optimization terminated successfully.\n",
      "         Current function value: 0.623437\n",
      "         Iterations 5\n",
      "LogisticRegression(C=1000000000.0, class_weight=None, dual=False,\n",
      "                   fit_intercept=True, intercept_scaling=1, l1_ratio=None,\n",
      "                   max_iter=100, multi_class='warn', n_jobs=None, penalty='l2',\n",
      "                   random_state=None, solver='warn', tol=0.0001, verbose=0,\n",
      "                   warm_start=False)\n",
      "coeficientes=  [[-1.37712086 -0.98541325  0.26600171  0.34599957  0.59422229]]\n",
      "intercepto=  [0.51229529]\n",
      "Accuracy en los datos: 0.66\n"
     ]
    },
    {
     "name": "stderr",
     "output_type": "stream",
     "text": [
      "/home/lucia/anaconda3/envs/diplodatos/lib/python3.7/site-packages/sklearn/linear_model/logistic.py:432: FutureWarning: Default solver will be changed to 'lbfgs' in 0.22. Specify a solver to silence this warning.\n",
      "  FutureWarning)\n"
     ]
    },
    {
     "data": {
      "text/plain": [
       "()"
      ]
     },
     "execution_count": 61,
     "metadata": {},
     "output_type": "execute_result"
    }
   ],
   "source": [
    "y_data = data_sel['nota_matematica']\n",
    "x_data = data_sel[['alm_Tr' , 'alm_NoTr_B','madre_Desconoce', 'madre_NoTr_B', 'madre_Tr']]\n",
    "logit_st(x_data, y_data)\n",
    "logit_sk(x_data, y_data)"
   ]
  },
  {
   "cell_type": "code",
   "execution_count": 62,
   "metadata": {},
   "outputs": [
    {
     "name": "stderr",
     "output_type": "stream",
     "text": [
      "/home/lucia/anaconda3/envs/diplodatos/lib/python3.7/site-packages/numpy/core/fromnumeric.py:2389: FutureWarning: Method .ptp is deprecated and will be removed in a future version. Use numpy.ptp instead.\n",
      "  return ptp(axis=axis, out=out, **kwargs)\n",
      "/home/lucia/anaconda3/envs/diplodatos/lib/python3.7/site-packages/numpy/core/fromnumeric.py:2389: FutureWarning: Method .ptp is deprecated and will be removed in a future version. Use numpy.ptp instead.\n",
      "  return ptp(axis=axis, out=out, **kwargs)\n",
      "/home/lucia/anaconda3/envs/diplodatos/lib/python3.7/site-packages/numpy/core/fromnumeric.py:2389: FutureWarning: Method .ptp is deprecated and will be removed in a future version. Use numpy.ptp instead.\n",
      "  return ptp(axis=axis, out=out, **kwargs)\n",
      "/home/lucia/anaconda3/envs/diplodatos/lib/python3.7/site-packages/numpy/core/fromnumeric.py:2389: FutureWarning: Method .ptp is deprecated and will be removed in a future version. Use numpy.ptp instead.\n",
      "  return ptp(axis=axis, out=out, **kwargs)\n",
      "/home/lucia/anaconda3/envs/diplodatos/lib/python3.7/site-packages/numpy/core/fromnumeric.py:2389: FutureWarning: Method .ptp is deprecated and will be removed in a future version. Use numpy.ptp instead.\n",
      "  return ptp(axis=axis, out=out, **kwargs)\n",
      "/home/lucia/anaconda3/envs/diplodatos/lib/python3.7/site-packages/numpy/core/fromnumeric.py:2389: FutureWarning: Method .ptp is deprecated and will be removed in a future version. Use numpy.ptp instead.\n",
      "  return ptp(axis=axis, out=out, **kwargs)\n",
      "/home/lucia/anaconda3/envs/diplodatos/lib/python3.7/site-packages/numpy/core/fromnumeric.py:2389: FutureWarning: Method .ptp is deprecated and will be removed in a future version. Use numpy.ptp instead.\n",
      "  return ptp(axis=axis, out=out, **kwargs)\n",
      "/home/lucia/anaconda3/envs/diplodatos/lib/python3.7/site-packages/numpy/core/fromnumeric.py:2389: FutureWarning: Method .ptp is deprecated and will be removed in a future version. Use numpy.ptp instead.\n",
      "  return ptp(axis=axis, out=out, **kwargs)\n",
      "/home/lucia/anaconda3/envs/diplodatos/lib/python3.7/site-packages/sklearn/linear_model/logistic.py:432: FutureWarning: Default solver will be changed to 'lbfgs' in 0.22. Specify a solver to silence this warning.\n",
      "  FutureWarning)\n"
     ]
    },
    {
     "name": "stdout",
     "output_type": "stream",
     "text": [
      "Optimization terminated successfully.\n",
      "         Current function value: 0.621718\n",
      "         Iterations 5\n",
      "                           Logit Regression Results                           \n",
      "==============================================================================\n",
      "Dep. Variable:        nota_matematica   No. Observations:                 2707\n",
      "Model:                          Logit   Df Residuals:                     2698\n",
      "Method:                           MLE   Df Model:                            8\n",
      "Date:                Mon, 26 Aug 2019   Pseudo R-squ.:                 0.07584\n",
      "Time:                        21:03:34   Log-Likelihood:                -1683.0\n",
      "converged:                       True   LL-Null:                       -1821.1\n",
      "Covariance Type:            nonrobust   LLR p-value:                 4.650e-55\n",
      "===================================================================================\n",
      "                      coef    std err          z      P>|z|      [0.025      0.975]\n",
      "-----------------------------------------------------------------------------------\n",
      "const               0.1694      0.244      0.695      0.487      -0.308       0.647\n",
      "alm_Tr             -1.3612      0.104    -13.106      0.000      -1.565      -1.158\n",
      "alm_NoTr_B         -0.9562      0.104     -9.172      0.000      -1.161      -0.752\n",
      "madre_Desconoce     0.3531      0.160      2.213      0.027       0.040       0.666\n",
      "madre_NoTr_B        0.3497      0.233      1.499      0.134      -0.108       0.807\n",
      "madre_Tr            0.5513      0.127      4.340      0.000       0.302       0.800\n",
      "padre_Desconoce     0.2127      0.260      0.819      0.413      -0.296       0.722\n",
      "padre_NoTr_B       -0.3249      0.439     -0.740      0.460      -1.186       0.536\n",
      "padre_Tr            0.4247      0.243      1.746      0.081      -0.052       0.901\n",
      "===================================================================================\n",
      "Optimization terminated successfully.\n",
      "         Current function value: 0.621718\n",
      "         Iterations 5\n",
      "LogisticRegression(C=1000000000.0, class_weight=None, dual=False,\n",
      "                   fit_intercept=True, intercept_scaling=1, l1_ratio=None,\n",
      "                   max_iter=100, multi_class='warn', n_jobs=None, penalty='l2',\n",
      "                   random_state=None, solver='warn', tol=0.0001, verbose=0,\n",
      "                   warm_start=False)\n",
      "coeficientes=  [[-1.3612086  -0.95621963  0.35327061  0.34991445  0.55138496  0.21241629\n",
      "  -0.32439794  0.42449866]]\n",
      "intercepto=  [0.1695463]\n",
      "Accuracy en los datos: 0.66\n"
     ]
    },
    {
     "data": {
      "text/plain": [
       "()"
      ]
     },
     "execution_count": 62,
     "metadata": {},
     "output_type": "execute_result"
    }
   ],
   "source": [
    "y_data = data_sel['nota_matematica']\n",
    "x_data = data_sel[['alm_Tr' , 'alm_NoTr_B',\n",
    "                   'madre_Desconoce', 'madre_NoTr_B', 'madre_Tr',\n",
    "                   'padre_Desconoce', 'padre_NoTr_B', 'padre_Tr']]\n",
    "logit_st(x_data, y_data)\n",
    "logit_sk(x_data, y_data)"
   ]
  },
  {
   "cell_type": "markdown",
   "metadata": {},
   "source": [
    "### resultado trabajo alumno y madre o padre\n",
    "Al incluir todas las variables (que en los gráficos de barra se ve que están correlacionadas), la dependencia entre \"y\" (nota_matemática) y que el padre y la madre tengan trabajo disminuye. En el caso del padre el coeficiente ya no es más significativo. En el caso de la madre sí. "
   ]
  },
  {
   "cell_type": "markdown",
   "metadata": {},
   "source": [
    "## Nivel de ingles\n",
    "Tomamos como línea de bse el nivel de inglés 0 - no sabe inglés."
   ]
  },
  {
   "cell_type": "code",
   "execution_count": 63,
   "metadata": {},
   "outputs": [
    {
     "name": "stderr",
     "output_type": "stream",
     "text": [
      "/home/lucia/anaconda3/envs/diplodatos/lib/python3.7/site-packages/numpy/core/fromnumeric.py:2389: FutureWarning: Method .ptp is deprecated and will be removed in a future version. Use numpy.ptp instead.\n",
      "  return ptp(axis=axis, out=out, **kwargs)\n",
      "/home/lucia/anaconda3/envs/diplodatos/lib/python3.7/site-packages/numpy/core/fromnumeric.py:2389: FutureWarning: Method .ptp is deprecated and will be removed in a future version. Use numpy.ptp instead.\n",
      "  return ptp(axis=axis, out=out, **kwargs)\n",
      "/home/lucia/anaconda3/envs/diplodatos/lib/python3.7/site-packages/sklearn/linear_model/logistic.py:432: FutureWarning: Default solver will be changed to 'lbfgs' in 0.22. Specify a solver to silence this warning.\n",
      "  FutureWarning)\n"
     ]
    },
    {
     "name": "stdout",
     "output_type": "stream",
     "text": [
      "Optimization terminated successfully.\n",
      "         Current function value: 0.654038\n",
      "         Iterations 5\n",
      "                           Logit Regression Results                           \n",
      "==============================================================================\n",
      "Dep. Variable:        nota_matematica   No. Observations:                 2707\n",
      "Model:                          Logit   Df Residuals:                     2704\n",
      "Method:                           MLE   Df Model:                            2\n",
      "Date:                Mon, 26 Aug 2019   Pseudo R-squ.:                 0.02780\n",
      "Time:                        21:03:34   Log-Likelihood:                -1770.5\n",
      "converged:                       True   LL-Null:                       -1821.1\n",
      "Covariance Type:            nonrobust   LLR p-value:                 1.028e-22\n",
      "================================================================================\n",
      "                   coef    std err          z      P>|z|      [0.025      0.975]\n",
      "--------------------------------------------------------------------------------\n",
      "const           -0.4595      0.184     -2.492      0.013      -0.821      -0.098\n",
      "niv_ingles_1     0.6103      0.192      3.184      0.001       0.235       0.986\n",
      "niv_ingles_2     1.3380      0.196      6.838      0.000       0.954       1.722\n",
      "================================================================================\n",
      "Optimization terminated successfully.\n",
      "         Current function value: 0.654038\n",
      "         Iterations 5\n",
      "LogisticRegression(C=1000000000.0, class_weight=None, dual=False,\n",
      "                   fit_intercept=True, intercept_scaling=1, l1_ratio=None,\n",
      "                   max_iter=100, multi_class='warn', n_jobs=None, penalty='l2',\n",
      "                   random_state=None, solver='warn', tol=0.0001, verbose=0,\n",
      "                   warm_start=False)\n",
      "coeficientes=  [[0.61028949 1.33802941]]\n",
      "intercepto=  [-0.45952577]\n",
      "Accuracy en los datos: 0.61\n"
     ]
    },
    {
     "data": {
      "text/plain": [
       "()"
      ]
     },
     "execution_count": 63,
     "metadata": {},
     "output_type": "execute_result"
    }
   ],
   "source": [
    "y_data = data_sel['nota_matematica']\n",
    "x_data = data_sel[['niv_ingles_1' ,'niv_ingles_2' ]]\n",
    "logit_st(x_data, y_data)\n",
    "logit_sk(x_data, y_data)"
   ]
  },
  {
   "cell_type": "markdown",
   "metadata": {},
   "source": [
    "### resultado nivel de inglés\n",
    "Hay una dependencia positiva entre el nivel de inglés y la nota en matemáticas (la probabilidad de aprobar es mayor en el grupo con mejor nivel de inglés). Nivel de inglés es probablemente un indicador del nivel socioeconómico."
   ]
  },
  {
   "cell_type": "markdown",
   "metadata": {},
   "source": [
    "## Trabajo del alumno y nivel de ingles"
   ]
  },
  {
   "cell_type": "code",
   "execution_count": 64,
   "metadata": {},
   "outputs": [
    {
     "name": "stdout",
     "output_type": "stream",
     "text": [
      "Optimization terminated successfully.\n",
      "         Current function value: 0.616539\n",
      "         Iterations 5\n",
      "                           Logit Regression Results                           \n",
      "==============================================================================\n",
      "Dep. Variable:        nota_matematica   No. Observations:                 2707\n",
      "Model:                          Logit   Df Residuals:                     2702\n",
      "Method:                           MLE   Df Model:                            4\n",
      "Date:                Mon, 26 Aug 2019   Pseudo R-squ.:                 0.08354\n",
      "Time:                        21:03:34   Log-Likelihood:                -1669.0\n",
      "converged:                       True   LL-Null:                       -1821.1\n",
      "Covariance Type:            nonrobust   LLR p-value:                 1.293e-64\n",
      "================================================================================\n",
      "                   coef    std err          z      P>|z|      [0.025      0.975]\n",
      "--------------------------------------------------------------------------------\n",
      "const            0.1402      0.196      0.714      0.475      -0.245       0.525\n",
      "alm_Tr          -1.3290      0.104    -12.760      0.000      -1.533      -1.125\n",
      "alm_NoTr_B      -0.9632      0.103     -9.315      0.000      -1.166      -0.761\n",
      "niv_ingles_1     0.5625      0.200      2.812      0.005       0.170       0.954\n",
      "niv_ingles_2     1.1644      0.204      5.705      0.000       0.764       1.564\n",
      "================================================================================\n",
      "Optimization terminated successfully.\n",
      "         Current function value: 0.616539\n",
      "         Iterations 5\n",
      "LogisticRegression(C=1000000000.0, class_weight=None, dual=False,\n",
      "                   fit_intercept=True, intercept_scaling=1, l1_ratio=None,\n",
      "                   max_iter=100, multi_class='warn', n_jobs=None, penalty='l2',\n",
      "                   random_state=None, solver='warn', tol=0.0001, verbose=0,\n",
      "                   warm_start=False)\n",
      "coeficientes=  [[-1.32899677 -0.9632544   0.5622684   1.16422416]]\n",
      "intercepto=  [0.14040977]\n",
      "Accuracy en los datos: 0.67\n"
     ]
    },
    {
     "name": "stderr",
     "output_type": "stream",
     "text": [
      "/home/lucia/anaconda3/envs/diplodatos/lib/python3.7/site-packages/numpy/core/fromnumeric.py:2389: FutureWarning: Method .ptp is deprecated and will be removed in a future version. Use numpy.ptp instead.\n",
      "  return ptp(axis=axis, out=out, **kwargs)\n",
      "/home/lucia/anaconda3/envs/diplodatos/lib/python3.7/site-packages/numpy/core/fromnumeric.py:2389: FutureWarning: Method .ptp is deprecated and will be removed in a future version. Use numpy.ptp instead.\n",
      "  return ptp(axis=axis, out=out, **kwargs)\n",
      "/home/lucia/anaconda3/envs/diplodatos/lib/python3.7/site-packages/numpy/core/fromnumeric.py:2389: FutureWarning: Method .ptp is deprecated and will be removed in a future version. Use numpy.ptp instead.\n",
      "  return ptp(axis=axis, out=out, **kwargs)\n",
      "/home/lucia/anaconda3/envs/diplodatos/lib/python3.7/site-packages/numpy/core/fromnumeric.py:2389: FutureWarning: Method .ptp is deprecated and will be removed in a future version. Use numpy.ptp instead.\n",
      "  return ptp(axis=axis, out=out, **kwargs)\n",
      "/home/lucia/anaconda3/envs/diplodatos/lib/python3.7/site-packages/sklearn/linear_model/logistic.py:432: FutureWarning: Default solver will be changed to 'lbfgs' in 0.22. Specify a solver to silence this warning.\n",
      "  FutureWarning)\n"
     ]
    },
    {
     "data": {
      "text/plain": [
       "()"
      ]
     },
     "execution_count": 64,
     "metadata": {},
     "output_type": "execute_result"
    }
   ],
   "source": [
    "y_data = data_sel['nota_matematica']\n",
    "x_data = data_sel[['alm_Tr' , 'alm_NoTr_B',\n",
    "                   'niv_ingles_1' ,'niv_ingles_2' ]]\n",
    "logit_st(x_data, y_data)\n",
    "logit_sk(x_data, y_data)"
   ]
  },
  {
   "cell_type": "markdown",
   "metadata": {},
   "source": [
    "### resultado trabajo y nivel de inglés\n",
    "Los valores absolutos de todos los coeficientes decaen, indicando que hay dependencia entre las condiciones pero siguen siendo positivos y significativos. "
   ]
  },
  {
   "cell_type": "markdown",
   "metadata": {},
   "source": [
    "## Obra Social\n",
    "Tomamos como línea de la categoría OS a través de familiares"
   ]
  },
  {
   "cell_type": "code",
   "execution_count": 65,
   "metadata": {},
   "outputs": [
    {
     "name": "stderr",
     "output_type": "stream",
     "text": [
      "/home/lucia/anaconda3/envs/diplodatos/lib/python3.7/site-packages/numpy/core/fromnumeric.py:2389: FutureWarning: Method .ptp is deprecated and will be removed in a future version. Use numpy.ptp instead.\n",
      "  return ptp(axis=axis, out=out, **kwargs)\n",
      "/home/lucia/anaconda3/envs/diplodatos/lib/python3.7/site-packages/numpy/core/fromnumeric.py:2389: FutureWarning: Method .ptp is deprecated and will be removed in a future version. Use numpy.ptp instead.\n",
      "  return ptp(axis=axis, out=out, **kwargs)\n",
      "/home/lucia/anaconda3/envs/diplodatos/lib/python3.7/site-packages/numpy/core/fromnumeric.py:2389: FutureWarning: Method .ptp is deprecated and will be removed in a future version. Use numpy.ptp instead.\n",
      "  return ptp(axis=axis, out=out, **kwargs)\n",
      "/home/lucia/anaconda3/envs/diplodatos/lib/python3.7/site-packages/numpy/core/fromnumeric.py:2389: FutureWarning: Method .ptp is deprecated and will be removed in a future version. Use numpy.ptp instead.\n",
      "  return ptp(axis=axis, out=out, **kwargs)\n"
     ]
    },
    {
     "name": "stdout",
     "output_type": "stream",
     "text": [
      "Optimization terminated successfully.\n",
      "         Current function value: 0.627471\n",
      "         Iterations 5\n",
      "                           Logit Regression Results                           \n",
      "==============================================================================\n",
      "Dep. Variable:        nota_matematica   No. Observations:                 2707\n",
      "Model:                          Logit   Df Residuals:                     2702\n",
      "Method:                           MLE   Df Model:                            4\n",
      "Date:                Mon, 26 Aug 2019   Pseudo R-squ.:                 0.06729\n",
      "Time:                        21:03:34   Log-Likelihood:                -1698.6\n",
      "converged:                       True   LL-Null:                       -1821.1\n",
      "Covariance Type:            nonrobust   LLR p-value:                 7.416e-52\n",
      "=================================================================================\n",
      "                    coef    std err          z      P>|z|      [0.025      0.975]\n",
      "---------------------------------------------------------------------------------\n",
      "const             0.8055      0.058     13.870      0.000       0.692       0.919\n",
      "OS_sin           -1.0083      0.097    -10.362      0.000      -1.199      -0.818\n",
      "OS_voluntario     0.1324      0.123      1.079      0.281      -0.108       0.373\n",
      "OS_univ          -0.8055      0.358     -2.248      0.025      -1.508      -0.103\n",
      "OS_trabajo       -1.9582      0.175    -11.160      0.000      -2.302      -1.614\n",
      "=================================================================================\n",
      "Optimization terminated successfully.\n",
      "         Current function value: 0.627471\n",
      "         Iterations 5\n",
      "LogisticRegression(C=1000000000.0, class_weight=None, dual=False,\n",
      "                   fit_intercept=True, intercept_scaling=1, l1_ratio=None,\n",
      "                   max_iter=100, multi_class='warn', n_jobs=None, penalty='l2',\n",
      "                   random_state=None, solver='warn', tol=0.0001, verbose=0,\n",
      "                   warm_start=False)\n",
      "coeficientes=  [[-1.00827996  0.13242811 -0.80546779 -1.95815532]]\n",
      "intercepto=  [0.80547609]\n",
      "Accuracy en los datos: 0.66\n"
     ]
    },
    {
     "name": "stderr",
     "output_type": "stream",
     "text": [
      "/home/lucia/anaconda3/envs/diplodatos/lib/python3.7/site-packages/sklearn/linear_model/logistic.py:432: FutureWarning: Default solver will be changed to 'lbfgs' in 0.22. Specify a solver to silence this warning.\n",
      "  FutureWarning)\n"
     ]
    },
    {
     "data": {
      "text/plain": [
       "()"
      ]
     },
     "execution_count": 65,
     "metadata": {},
     "output_type": "execute_result"
    }
   ],
   "source": [
    "y_data = data_sel['nota_matematica']\n",
    "x_data = data_sel[['OS_sin', 'OS_voluntario', 'OS_univ',\n",
    "                   'OS_trabajo' ]]\n",
    "logit_st(x_data, y_data)\n",
    "logit_sk(x_data, y_data)\n"
   ]
  },
  {
   "cell_type": "markdown",
   "metadata": {},
   "source": [
    "### resultado obra social\n",
    "Aquellos que tienen obra social como afiliados voluntarios son similares a los que la tienen a través de un familiar. Para las otras categorías hay una disminución en la probabilidad de aprobar matemática, que es mayor (coef más negativo) para los que tienen OS a través del trabajo, luego para los que no tienen OS, y finalmente para los que la tienen a través de la uiversidad"
   ]
  },
  {
   "cell_type": "markdown",
   "metadata": {},
   "source": [
    "## Trabajo y Obra Social\n"
   ]
  },
  {
   "cell_type": "code",
   "execution_count": 66,
   "metadata": {},
   "outputs": [
    {
     "name": "stdout",
     "output_type": "stream",
     "text": [
      "Optimization terminated successfully.\n",
      "         Current function value: 0.609785\n",
      "         Iterations 5\n",
      "                           Logit Regression Results                           \n",
      "==============================================================================\n",
      "Dep. Variable:        nota_matematica   No. Observations:                 2707\n",
      "Model:                          Logit   Df Residuals:                     2700\n",
      "Method:                           MLE   Df Model:                            6\n",
      "Date:                Mon, 26 Aug 2019   Pseudo R-squ.:                 0.09358\n",
      "Time:                        21:03:35   Log-Likelihood:                -1650.7\n",
      "converged:                       True   LL-Null:                       -1821.1\n",
      "Covariance Type:            nonrobust   LLR p-value:                 1.426e-70\n",
      "=================================================================================\n",
      "                    coef    std err          z      P>|z|      [0.025      0.975]\n",
      "---------------------------------------------------------------------------------\n",
      "const             1.0685      0.066     16.174      0.000       0.939       1.198\n",
      "alm_Tr           -0.9643      0.117     -8.269      0.000      -1.193      -0.736\n",
      "alm_NoTr_B       -0.7976      0.106     -7.501      0.000      -1.006      -0.589\n",
      "OS_sin           -0.7526      0.102     -7.366      0.000      -0.953      -0.552\n",
      "OS_voluntario     0.1754      0.125      1.401      0.161      -0.070       0.421\n",
      "OS_univ          -0.5926      0.367     -1.614      0.106      -1.312       0.127\n",
      "OS_trabajo       -1.3230      0.194     -6.814      0.000      -1.704      -0.942\n",
      "=================================================================================\n",
      "Optimization terminated successfully.\n",
      "         Current function value: 0.609785\n",
      "         Iterations 5\n",
      "LogisticRegression(C=1000000000.0, class_weight=None, dual=False,\n",
      "                   fit_intercept=True, intercept_scaling=1, l1_ratio=None,\n",
      "                   max_iter=100, multi_class='warn', n_jobs=None, penalty='l2',\n",
      "                   random_state=None, solver='warn', tol=0.0001, verbose=0,\n",
      "                   warm_start=False)\n",
      "coeficientes=  [[-0.96420749 -0.79756627 -0.75253575  0.17544471 -0.59318434 -1.32303275]]\n",
      "intercepto=  [1.06852511]\n",
      "Accuracy en los datos: 0.68\n"
     ]
    },
    {
     "name": "stderr",
     "output_type": "stream",
     "text": [
      "/home/lucia/anaconda3/envs/diplodatos/lib/python3.7/site-packages/numpy/core/fromnumeric.py:2389: FutureWarning: Method .ptp is deprecated and will be removed in a future version. Use numpy.ptp instead.\n",
      "  return ptp(axis=axis, out=out, **kwargs)\n",
      "/home/lucia/anaconda3/envs/diplodatos/lib/python3.7/site-packages/numpy/core/fromnumeric.py:2389: FutureWarning: Method .ptp is deprecated and will be removed in a future version. Use numpy.ptp instead.\n",
      "  return ptp(axis=axis, out=out, **kwargs)\n",
      "/home/lucia/anaconda3/envs/diplodatos/lib/python3.7/site-packages/numpy/core/fromnumeric.py:2389: FutureWarning: Method .ptp is deprecated and will be removed in a future version. Use numpy.ptp instead.\n",
      "  return ptp(axis=axis, out=out, **kwargs)\n",
      "/home/lucia/anaconda3/envs/diplodatos/lib/python3.7/site-packages/numpy/core/fromnumeric.py:2389: FutureWarning: Method .ptp is deprecated and will be removed in a future version. Use numpy.ptp instead.\n",
      "  return ptp(axis=axis, out=out, **kwargs)\n",
      "/home/lucia/anaconda3/envs/diplodatos/lib/python3.7/site-packages/numpy/core/fromnumeric.py:2389: FutureWarning: Method .ptp is deprecated and will be removed in a future version. Use numpy.ptp instead.\n",
      "  return ptp(axis=axis, out=out, **kwargs)\n",
      "/home/lucia/anaconda3/envs/diplodatos/lib/python3.7/site-packages/numpy/core/fromnumeric.py:2389: FutureWarning: Method .ptp is deprecated and will be removed in a future version. Use numpy.ptp instead.\n",
      "  return ptp(axis=axis, out=out, **kwargs)\n",
      "/home/lucia/anaconda3/envs/diplodatos/lib/python3.7/site-packages/sklearn/linear_model/logistic.py:432: FutureWarning: Default solver will be changed to 'lbfgs' in 0.22. Specify a solver to silence this warning.\n",
      "  FutureWarning)\n"
     ]
    },
    {
     "data": {
      "text/plain": [
       "()"
      ]
     },
     "execution_count": 66,
     "metadata": {},
     "output_type": "execute_result"
    }
   ],
   "source": [
    "y_data = data_sel['nota_matematica']\n",
    "x_data = data_sel[['alm_Tr' , 'alm_NoTr_B',\n",
    "    'OS_sin', 'OS_voluntario', 'OS_univ',\n",
    "                   'OS_trabajo' ]]\n",
    "logit_st(x_data, y_data)\n",
    "logit_sk(x_data, y_data)\n"
   ]
  },
  {
   "cell_type": "markdown",
   "metadata": {},
   "source": [
    "### resultado Trabajo alumno y obra social\n",
    "Es esperable que parte de lo que se ve a través de obra social se explique por la condición de alumno trabajador. Y eso se observa, que la dependencia con \"trabajo\" y con \"OS_trabajo\" disminuyen, porque la correlación se reparte entre ambas variables. También baja la dependencia con \"no trabaja y busca\" y con \"OS_univ\" (que deja de ser significativo) y \"OS_sin\". "
   ]
  },
  {
   "cell_type": "markdown",
   "metadata": {},
   "source": [
    "## Modelo de regresión logística, que intenta explicar el desempeño en matemáticas, incluyendo las variables \"trabajo del alumno\" y \"trabajo de padre y madre\" y \"nivel de estudios padre y madre\" y \"padre y madre viven\" y \"nivel de inglés\" y \"obra social\""
   ]
  },
  {
   "cell_type": "code",
   "execution_count": 67,
   "metadata": {},
   "outputs": [
    {
     "name": "stderr",
     "output_type": "stream",
     "text": [
      "/home/lucia/anaconda3/envs/diplodatos/lib/python3.7/site-packages/numpy/core/fromnumeric.py:2389: FutureWarning: Method .ptp is deprecated and will be removed in a future version. Use numpy.ptp instead.\n",
      "  return ptp(axis=axis, out=out, **kwargs)\n"
     ]
    },
    {
     "name": "stdout",
     "output_type": "stream",
     "text": [
      "Optimization terminated successfully.\n",
      "         Current function value: 0.588339\n",
      "         Iterations 5\n",
      "                           Logit Regression Results                           \n",
      "==============================================================================\n",
      "Dep. Variable:        nota_matematica   No. Observations:                 2707\n",
      "Model:                          Logit   Df Residuals:                     2682\n",
      "Method:                           MLE   Df Model:                           24\n",
      "Date:                Mon, 26 Aug 2019   Pseudo R-squ.:                  0.1255\n",
      "Time:                        21:03:35   Log-Likelihood:                -1592.6\n",
      "converged:                       True   LL-Null:                       -1821.1\n",
      "Covariance Type:            nonrobust   LLR p-value:                 1.383e-81\n",
      "===================================================================================\n",
      "                      coef    std err          z      P>|z|      [0.025      0.975]\n",
      "-----------------------------------------------------------------------------------\n",
      "const              -0.6555      0.506     -1.295      0.195      -1.648       0.337\n",
      "alm_Tr             -0.8531      0.121     -7.030      0.000      -1.091      -0.615\n",
      "alm_NoTr_B         -0.7094      0.111     -6.414      0.000      -0.926      -0.493\n",
      "madre_vive          0.2697      0.321      0.841      0.400      -0.359       0.898\n",
      "padre_vive         -0.1841      0.204     -0.904      0.366      -0.583       0.215\n",
      "niv_est_madre_0    -1.0514      0.541     -1.944      0.052      -2.111       0.009\n",
      "niv_est_madre_2    -0.2855      0.271     -1.054      0.292      -0.817       0.246\n",
      "niv_est_madre_3    -0.1308      0.274     -0.478      0.633      -0.668       0.406\n",
      "niv_est_madre_4     0.1330      0.272      0.490      0.624      -0.399       0.666\n",
      "niv_est_padre_0     0.1707      0.323      0.529      0.597      -0.462       0.804\n",
      "niv_est_padre_2     0.2523      0.235      1.072      0.284      -0.209       0.714\n",
      "niv_est_padre_3     0.4582      0.239      1.919      0.055      -0.010       0.926\n",
      "niv_est_padre_4     0.6972      0.239      2.916      0.004       0.229       1.166\n",
      "madre_Desconoce     0.2645      0.180      1.473      0.141      -0.087       0.616\n",
      "madre_NoTr_B        0.4103      0.243      1.689      0.091      -0.066       0.886\n",
      "madre_Tr            0.2623      0.134      1.959      0.050   -9.22e-05       0.525\n",
      "padre_Desconoce     0.1796      0.282      0.638      0.524      -0.373       0.732\n",
      "padre_NoTr_B       -0.2251      0.455     -0.495      0.621      -1.117       0.666\n",
      "padre_Tr            0.3262      0.252      1.293      0.196      -0.168       0.821\n",
      "niv_ingles_1        0.4071      0.211      1.927      0.054      -0.007       0.821\n",
      "niv_ingles_2        0.7730      0.217      3.560      0.000       0.347       1.199\n",
      "OS_sin             -0.4633      0.109     -4.241      0.000      -0.677      -0.249\n",
      "OS_voluntario       0.1846      0.129      1.427      0.154      -0.069       0.438\n",
      "OS_univ            -0.3888      0.377     -1.030      0.303      -1.128       0.351\n",
      "OS_trabajo         -1.0216      0.202     -5.047      0.000      -1.418      -0.625\n",
      "===================================================================================\n",
      "Optimization terminated successfully.\n",
      "         Current function value: 0.588339\n",
      "         Iterations 5\n",
      "LogisticRegression(C=1000000000.0, class_weight=None, dual=False,\n",
      "                   fit_intercept=True, intercept_scaling=1, l1_ratio=None,\n",
      "                   max_iter=100, multi_class='warn', n_jobs=None, penalty='l2',\n",
      "                   random_state=None, solver='warn', tol=0.0001, verbose=0,\n",
      "                   warm_start=False)\n",
      "coeficientes=  [[-0.85312917 -0.70937689  0.26973186 -0.18413529 -1.05122892 -0.28535568\n",
      "  -0.13066684  0.13317328  0.17074644  0.25237985  0.45828746  0.69725371\n",
      "   0.26451814  0.41041749  0.26230782  0.17961403 -0.22534028  0.32623457\n",
      "   0.40715648  0.77302783 -0.46324125  0.18468067 -0.38882413 -1.02164579]]\n",
      "intercepto=  [-0.65578618]\n",
      "Accuracy en los datos: 0.70\n"
     ]
    },
    {
     "name": "stderr",
     "output_type": "stream",
     "text": [
      "/home/lucia/anaconda3/envs/diplodatos/lib/python3.7/site-packages/sklearn/linear_model/logistic.py:432: FutureWarning: Default solver will be changed to 'lbfgs' in 0.22. Specify a solver to silence this warning.\n",
      "  FutureWarning)\n"
     ]
    },
    {
     "data": {
      "text/plain": [
       "()"
      ]
     },
     "execution_count": 67,
     "metadata": {},
     "output_type": "execute_result"
    }
   ],
   "source": [
    "y_data = data_sel['nota_matematica']\n",
    "x_data = data_sel[['alm_Tr' , 'alm_NoTr_B', \n",
    "                   'madre_vive', 'padre_vive',\n",
    "                   'niv_est_madre_0', 'niv_est_madre_2','niv_est_madre_3', 'niv_est_madre_4',\n",
    "                   'niv_est_padre_0', 'niv_est_padre_2','niv_est_padre_3', 'niv_est_padre_4',\n",
    "                   'madre_Desconoce', 'madre_NoTr_B', 'madre_Tr',\n",
    "                   'padre_Desconoce', 'padre_NoTr_B', 'padre_Tr',\n",
    "                   'niv_ingles_1' ,'niv_ingles_2', \n",
    "                   'OS_sin', 'OS_voluntario', 'OS_univ',\n",
    "                   'OS_trabajo' ]]\n",
    "logit_st(x_data, y_data)\n",
    "logit_sk(x_data, y_data)"
   ]
  },
  {
   "cell_type": "markdown",
   "metadata": {},
   "source": [
    "## Sacando las variables con todas las categorías no significativas (madre vive padre vive y nivel de estudios de la madre"
   ]
  },
  {
   "cell_type": "code",
   "execution_count": 68,
   "metadata": {},
   "outputs": [
    {
     "name": "stdout",
     "output_type": "stream",
     "text": [
      "Optimization terminated successfully.\n",
      "         Current function value: 0.589275\n",
      "         Iterations 5\n",
      "                           Logit Regression Results                           \n",
      "==============================================================================\n",
      "Dep. Variable:        nota_matematica   No. Observations:                 2707\n",
      "Model:                          Logit   Df Residuals:                     2687\n",
      "Method:                           MLE   Df Model:                           19\n",
      "Date:                Mon, 26 Aug 2019   Pseudo R-squ.:                  0.1241\n",
      "Time:                        21:03:35   Log-Likelihood:                -1595.2\n",
      "converged:                       True   LL-Null:                       -1821.1\n",
      "Covariance Type:            nonrobust   LLR p-value:                 6.657e-84\n",
      "===================================================================================\n",
      "                      coef    std err          z      P>|z|      [0.025      0.975]\n",
      "-----------------------------------------------------------------------------------\n",
      "const              -0.3303      0.340     -0.972      0.331      -0.997       0.336\n",
      "alm_Tr             -0.8463      0.121     -7.019      0.000      -1.083      -0.610\n",
      "alm_NoTr_B         -0.7210      0.110     -6.551      0.000      -0.937      -0.505\n",
      "niv_est_madre_0    -1.0950      0.533     -2.053      0.040      -2.141      -0.050\n",
      "niv_est_madre_2    -0.2745      0.269     -1.020      0.308      -0.802       0.253\n",
      "niv_est_madre_3    -0.1225      0.272     -0.451      0.652      -0.655       0.410\n",
      "niv_est_madre_4     0.1317      0.269      0.489      0.625      -0.396       0.659\n",
      "niv_est_padre_0     0.2283      0.304      0.750      0.453      -0.368       0.825\n",
      "niv_est_padre_2     0.2711      0.235      1.156      0.248      -0.189       0.731\n",
      "niv_est_padre_3     0.4726      0.238      1.988      0.047       0.007       0.939\n",
      "niv_est_padre_4     0.7256      0.238      3.051      0.002       0.259       1.192\n",
      "madre_Desconoce     0.1890      0.143      1.320      0.187      -0.092       0.470\n",
      "madre_NoTr_B        0.3983      0.239      1.664      0.096      -0.071       0.867\n",
      "madre_Tr            0.2914      0.131      2.224      0.026       0.035       0.548\n",
      "niv_ingles_1        0.4174      0.210      1.985      0.047       0.005       0.830\n",
      "niv_ingles_2        0.7907      0.216      3.660      0.000       0.367       1.214\n",
      "OS_sin             -0.4634      0.109     -4.250      0.000      -0.677      -0.250\n",
      "OS_voluntario       0.1851      0.129      1.434      0.152      -0.068       0.438\n",
      "OS_univ            -0.3636      0.377     -0.965      0.335      -1.102       0.375\n",
      "OS_trabajo         -1.0386      0.201     -5.164      0.000      -1.433      -0.644\n",
      "===================================================================================\n",
      "Optimization terminated successfully.\n",
      "         Current function value: 0.589275\n",
      "         Iterations 5\n",
      "LogisticRegression(C=1000000000.0, class_weight=None, dual=False,\n",
      "                   fit_intercept=True, intercept_scaling=1, l1_ratio=None,\n",
      "                   max_iter=100, multi_class='warn', n_jobs=None, penalty='l2',\n",
      "                   random_state=None, solver='warn', tol=0.0001, verbose=0,\n",
      "                   warm_start=False)\n",
      "coeficientes=  [[-0.84627688 -0.72097971 -1.09449595 -0.27425914 -0.12226068  0.13196255\n",
      "   0.22839426  0.27126739  0.47270891  0.72570861  0.18897966  0.3983434\n",
      "   0.29145125  0.41737561  0.79066672 -0.46338001  0.18505162 -0.36357356\n",
      "  -1.03871266]]\n",
      "intercepto=  [-0.33068279]\n",
      "Accuracy en los datos: 0.70\n"
     ]
    },
    {
     "name": "stderr",
     "output_type": "stream",
     "text": [
      "/home/lucia/anaconda3/envs/diplodatos/lib/python3.7/site-packages/numpy/core/fromnumeric.py:2389: FutureWarning: Method .ptp is deprecated and will be removed in a future version. Use numpy.ptp instead.\n",
      "  return ptp(axis=axis, out=out, **kwargs)\n",
      "/home/lucia/anaconda3/envs/diplodatos/lib/python3.7/site-packages/numpy/core/fromnumeric.py:2389: FutureWarning: Method .ptp is deprecated and will be removed in a future version. Use numpy.ptp instead.\n",
      "  return ptp(axis=axis, out=out, **kwargs)\n",
      "/home/lucia/anaconda3/envs/diplodatos/lib/python3.7/site-packages/numpy/core/fromnumeric.py:2389: FutureWarning: Method .ptp is deprecated and will be removed in a future version. Use numpy.ptp instead.\n",
      "  return ptp(axis=axis, out=out, **kwargs)\n",
      "/home/lucia/anaconda3/envs/diplodatos/lib/python3.7/site-packages/numpy/core/fromnumeric.py:2389: FutureWarning: Method .ptp is deprecated and will be removed in a future version. Use numpy.ptp instead.\n",
      "  return ptp(axis=axis, out=out, **kwargs)\n",
      "/home/lucia/anaconda3/envs/diplodatos/lib/python3.7/site-packages/numpy/core/fromnumeric.py:2389: FutureWarning: Method .ptp is deprecated and will be removed in a future version. Use numpy.ptp instead.\n",
      "  return ptp(axis=axis, out=out, **kwargs)\n",
      "/home/lucia/anaconda3/envs/diplodatos/lib/python3.7/site-packages/numpy/core/fromnumeric.py:2389: FutureWarning: Method .ptp is deprecated and will be removed in a future version. Use numpy.ptp instead.\n",
      "  return ptp(axis=axis, out=out, **kwargs)\n",
      "/home/lucia/anaconda3/envs/diplodatos/lib/python3.7/site-packages/numpy/core/fromnumeric.py:2389: FutureWarning: Method .ptp is deprecated and will be removed in a future version. Use numpy.ptp instead.\n",
      "  return ptp(axis=axis, out=out, **kwargs)\n",
      "/home/lucia/anaconda3/envs/diplodatos/lib/python3.7/site-packages/numpy/core/fromnumeric.py:2389: FutureWarning: Method .ptp is deprecated and will be removed in a future version. Use numpy.ptp instead.\n",
      "  return ptp(axis=axis, out=out, **kwargs)\n",
      "/home/lucia/anaconda3/envs/diplodatos/lib/python3.7/site-packages/numpy/core/fromnumeric.py:2389: FutureWarning: Method .ptp is deprecated and will be removed in a future version. Use numpy.ptp instead.\n",
      "  return ptp(axis=axis, out=out, **kwargs)\n",
      "/home/lucia/anaconda3/envs/diplodatos/lib/python3.7/site-packages/numpy/core/fromnumeric.py:2389: FutureWarning: Method .ptp is deprecated and will be removed in a future version. Use numpy.ptp instead.\n",
      "  return ptp(axis=axis, out=out, **kwargs)\n",
      "/home/lucia/anaconda3/envs/diplodatos/lib/python3.7/site-packages/numpy/core/fromnumeric.py:2389: FutureWarning: Method .ptp is deprecated and will be removed in a future version. Use numpy.ptp instead.\n",
      "  return ptp(axis=axis, out=out, **kwargs)\n",
      "/home/lucia/anaconda3/envs/diplodatos/lib/python3.7/site-packages/numpy/core/fromnumeric.py:2389: FutureWarning: Method .ptp is deprecated and will be removed in a future version. Use numpy.ptp instead.\n",
      "  return ptp(axis=axis, out=out, **kwargs)\n",
      "/home/lucia/anaconda3/envs/diplodatos/lib/python3.7/site-packages/numpy/core/fromnumeric.py:2389: FutureWarning: Method .ptp is deprecated and will be removed in a future version. Use numpy.ptp instead.\n",
      "  return ptp(axis=axis, out=out, **kwargs)\n",
      "/home/lucia/anaconda3/envs/diplodatos/lib/python3.7/site-packages/numpy/core/fromnumeric.py:2389: FutureWarning: Method .ptp is deprecated and will be removed in a future version. Use numpy.ptp instead.\n",
      "  return ptp(axis=axis, out=out, **kwargs)\n",
      "/home/lucia/anaconda3/envs/diplodatos/lib/python3.7/site-packages/numpy/core/fromnumeric.py:2389: FutureWarning: Method .ptp is deprecated and will be removed in a future version. Use numpy.ptp instead.\n",
      "  return ptp(axis=axis, out=out, **kwargs)\n",
      "/home/lucia/anaconda3/envs/diplodatos/lib/python3.7/site-packages/numpy/core/fromnumeric.py:2389: FutureWarning: Method .ptp is deprecated and will be removed in a future version. Use numpy.ptp instead.\n",
      "  return ptp(axis=axis, out=out, **kwargs)\n",
      "/home/lucia/anaconda3/envs/diplodatos/lib/python3.7/site-packages/numpy/core/fromnumeric.py:2389: FutureWarning: Method .ptp is deprecated and will be removed in a future version. Use numpy.ptp instead.\n",
      "  return ptp(axis=axis, out=out, **kwargs)\n",
      "/home/lucia/anaconda3/envs/diplodatos/lib/python3.7/site-packages/numpy/core/fromnumeric.py:2389: FutureWarning: Method .ptp is deprecated and will be removed in a future version. Use numpy.ptp instead.\n",
      "  return ptp(axis=axis, out=out, **kwargs)\n",
      "/home/lucia/anaconda3/envs/diplodatos/lib/python3.7/site-packages/numpy/core/fromnumeric.py:2389: FutureWarning: Method .ptp is deprecated and will be removed in a future version. Use numpy.ptp instead.\n",
      "  return ptp(axis=axis, out=out, **kwargs)\n",
      "/home/lucia/anaconda3/envs/diplodatos/lib/python3.7/site-packages/sklearn/linear_model/logistic.py:432: FutureWarning: Default solver will be changed to 'lbfgs' in 0.22. Specify a solver to silence this warning.\n",
      "  FutureWarning)\n"
     ]
    },
    {
     "data": {
      "text/plain": [
       "()"
      ]
     },
     "execution_count": 68,
     "metadata": {},
     "output_type": "execute_result"
    }
   ],
   "source": [
    "y_data = data_sel['nota_matematica']\n",
    "x_data = data_sel[['alm_Tr' , 'alm_NoTr_B', \n",
    "                   \n",
    "                   'niv_est_madre_0', 'niv_est_madre_2','niv_est_madre_3', 'niv_est_madre_4',\n",
    "                   'niv_est_padre_0', 'niv_est_padre_2','niv_est_padre_3', 'niv_est_padre_4',\n",
    "                   'madre_Desconoce', 'madre_NoTr_B', 'madre_Tr',\n",
    "                   \n",
    "                   'niv_ingles_1' ,'niv_ingles_2', \n",
    "                   'OS_sin', 'OS_voluntario', 'OS_univ',\n",
    "                   'OS_trabajo' ]]\n",
    "logit_st(x_data, y_data)\n",
    "logit_sk(x_data, y_data)"
   ]
  },
  {
   "cell_type": "markdown",
   "metadata": {},
   "source": [
    "## Métricas del modelo de regresión logística "
   ]
  },
  {
   "cell_type": "code",
   "execution_count": 69,
   "metadata": {},
   "outputs": [
    {
     "name": "stderr",
     "output_type": "stream",
     "text": [
      "/home/lucia/anaconda3/envs/diplodatos/lib/python3.7/site-packages/sklearn/linear_model/logistic.py:432: FutureWarning: Default solver will be changed to 'lbfgs' in 0.22. Specify a solver to silence this warning.\n",
      "  FutureWarning)\n"
     ]
    },
    {
     "name": "stdout",
     "output_type": "stream",
     "text": [
      "LogisticRegression(C=1000000000.0, class_weight=None, dual=False,\n",
      "                   fit_intercept=True, intercept_scaling=1, l1_ratio=None,\n",
      "                   max_iter=100, multi_class='warn', n_jobs=None, penalty='l2',\n",
      "                   random_state=None, solver='warn', tol=0.0001, verbose=0,\n",
      "                   warm_start=False)\n",
      "coeficientes=  [[-0.79768155 -0.67521606  0.07066332 -0.09625023 -1.13879164 -0.34707476\n",
      "  -0.16306463 -0.00374633  0.32315181  0.34660634  0.52444816  0.79009422\n",
      "   0.24772159  0.38177796  0.28039379  0.23093138  0.06255614  0.28534801\n",
      "   0.3850084   0.73289517 -0.42480469  0.22343317 -0.11389106 -1.07241269]]\n",
      "intercepto=  [-0.5397658]\n",
      "Métricas del clasificador evaluado sobre el conjunto de ENTRENAMIENTO\n",
      "Accuracy:  0.6905311778290993\n",
      "Precision:  0.7047803617571059\n",
      "Recall:  0.8366564417177914\n",
      "F1:  0.7650771388499299\n",
      "Matriz de Confusión: \n",
      "[[ 404  457]\n",
      " [ 213 1091]]\n",
      "Métricas del clasificador evaluado sobre el conjunto de EVALUACIÓN\n",
      "Accuracy:  0.7287822878228782\n",
      "Precision:  0.7320954907161804\n",
      "Recall:  0.8571428571428571\n",
      "F1:  0.7896995708154506\n",
      "Matriz de Confusión: \n",
      "[[119 101]\n",
      " [ 46 276]]\n"
     ]
    }
   ],
   "source": [
    "from sklearn.model_selection import train_test_split\n",
    "y_data = data_sel['nota_matematica']\n",
    "\n",
    "x_data = data_sel[['alm_Tr' , 'alm_NoTr_B', \n",
    "                   'madre_vive', 'padre_vive',\n",
    "                   'niv_est_madre_0', 'niv_est_madre_2','niv_est_madre_3', 'niv_est_madre_4',\n",
    "                   'niv_est_padre_0', 'niv_est_padre_2','niv_est_padre_3', 'niv_est_padre_4',\n",
    "                   'madre_Desconoce', 'madre_NoTr_B', 'madre_Tr',\n",
    "                   'padre_Desconoce', 'padre_NoTr_B', 'padre_Tr',\n",
    "                   'niv_ingles_1' ,'niv_ingles_2', \n",
    "                   'OS_sin', 'OS_voluntario', 'OS_univ',\n",
    "                   'OS_trabajo' ]]\n",
    "\n",
    "X_train, X_val, y_train, y_val = train_test_split(x_data, y_data, test_size=0.2, random_state=0)\n",
    "\n",
    "\n",
    "logreg = LogisticRegression(fit_intercept = True, C = 1e9)\n",
    "m_fit = logreg.fit(X_train, y_train)\n",
    "print(m_fit)\n",
    "print('coeficientes= ',logreg.coef_)\n",
    "print('intercepto= ', logreg.intercept_)\n",
    "\n",
    "y_train_preds = logreg.predict(X_train)\n",
    "y_val_preds = logreg.predict(X_val)\n",
    "\n",
    "accuracy = metrics.accuracy_score(y_train, y_train_preds, normalize=True)\n",
    "precision = metrics.precision_score(y_train, y_train_preds, pos_label=1)\n",
    "recall = metrics.recall_score(y_train, y_train_preds, pos_label=1)\n",
    "F1 = metrics.f1_score(y_train, y_train_preds)\n",
    "conf_mx = metrics.confusion_matrix(y_train, y_train_preds)\n",
    "print(\"Métricas del clasificador evaluado sobre el conjunto de ENTRENAMIENTO\")\n",
    "print(\"Accuracy: \", accuracy)\n",
    "print(\"Precision: \", precision)\n",
    "print(\"Recall: \", recall)\n",
    "print(\"F1: \", F1)\n",
    "print(\"Matriz de Confusión: \")\n",
    "print(conf_mx)\n",
    "\n",
    "accuracy = metrics.accuracy_score(y_val, y_val_preds, normalize=True)\n",
    "precision = metrics.precision_score(y_val, y_val_preds, pos_label=1)\n",
    "recall = metrics.recall_score(y_val, y_val_preds, pos_label=1)\n",
    "F1 = metrics.f1_score(y_val, y_val_preds)\n",
    "conf_mx = metrics.confusion_matrix(y_val, y_val_preds)\n",
    "\n",
    "print(\"Métricas del clasificador evaluado sobre el conjunto de EVALUACIÓN\")\n",
    "print(\"Accuracy: \", accuracy)\n",
    "print(\"Precision: \", precision)\n",
    "print(\"Recall: \", recall)\n",
    "print(\"F1: \", F1)\n",
    "print(\"Matriz de Confusión: \")\n",
    "print(conf_mx)"
   ]
  },
  {
   "cell_type": "code",
   "execution_count": 70,
   "metadata": {},
   "outputs": [
    {
     "name": "stderr",
     "output_type": "stream",
     "text": [
      "/home/lucia/anaconda3/envs/diplodatos/lib/python3.7/site-packages/sklearn/linear_model/logistic.py:432: FutureWarning: Default solver will be changed to 'lbfgs' in 0.22. Specify a solver to silence this warning.\n",
      "  FutureWarning)\n",
      "/home/lucia/anaconda3/envs/diplodatos/lib/python3.7/site-packages/sklearn/linear_model/logistic.py:432: FutureWarning: Default solver will be changed to 'lbfgs' in 0.22. Specify a solver to silence this warning.\n",
      "  FutureWarning)\n"
     ]
    },
    {
     "name": "stdout",
     "output_type": "stream",
     "text": [
      "LogisticRegression(C=1000000000.0, class_weight=None, dual=False,\n",
      "                   fit_intercept=True, intercept_scaling=1, l1_ratio=None,\n",
      "                   max_iter=100, multi_class='warn', n_jobs=None, penalty='l2',\n",
      "                   random_state=None, solver='warn', tol=0.0001, verbose=0,\n",
      "                   warm_start=False)\n",
      "coeficientes=  [[-0.79163518 -0.67966885 -1.15437003 -0.3499977  -0.16687381 -0.0142444\n",
      "   0.37050906  0.35316484  0.52651362  0.80156685  0.2384468   0.39339378\n",
      "   0.30635787  0.38749896  0.7414721  -0.42580045  0.22435882 -0.10939981\n",
      "  -1.08688995]]\n",
      "intercepto=  [-0.32090451]\n",
      "Métricas del clasificador evaluado sobre el conjunto de ENTRENAMIENTO\n",
      "Accuracy:  0.6863741339491917\n",
      "Precision:  0.7014829142488717\n",
      "Recall:  0.8343558282208589\n",
      "F1:  0.762171628721541\n",
      "Matriz de Confusión: \n",
      "[[ 398  463]\n",
      " [ 216 1088]]\n",
      "Métricas del clasificador evaluado sobre el conjunto de EVALUACIÓN\n",
      "Accuracy:  0.7250922509225092\n",
      "Precision:  0.7306666666666667\n",
      "Recall:  0.8509316770186336\n",
      "F1:  0.7862266857962698\n",
      "Matriz de Confusión: \n",
      "[[119 101]\n",
      " [ 48 274]]\n"
     ]
    }
   ],
   "source": [
    "y_data = data_sel['nota_matematica']\n",
    "x_data = data_sel[['alm_Tr' , 'alm_NoTr_B', \n",
    "                   \n",
    "                   'niv_est_madre_0', 'niv_est_madre_2','niv_est_madre_3', 'niv_est_madre_4',\n",
    "                   'niv_est_padre_0', 'niv_est_padre_2','niv_est_padre_3', 'niv_est_padre_4',\n",
    "                   'madre_Desconoce', 'madre_NoTr_B', 'madre_Tr',\n",
    "                   \n",
    "                   'niv_ingles_1' ,'niv_ingles_2', \n",
    "                   'OS_sin', 'OS_voluntario', 'OS_univ',\n",
    "                   'OS_trabajo' ]]\n",
    "\n",
    "\n",
    "\n",
    "X_train, X_val, y_train, y_val = train_test_split(x_data, y_data, test_size=0.2, random_state=0)\n",
    "\n",
    "logreg.fit(X_train, y_train)\n",
    "\n",
    "logreg = LogisticRegression(fit_intercept = True, C = 1e9)\n",
    "m_fit = logreg.fit(X_train, y_train)\n",
    "print(m_fit)\n",
    "print('coeficientes= ',logreg.coef_)\n",
    "print('intercepto= ', logreg.intercept_)\n",
    "y_train_pred = logreg.predict(X_train)\n",
    "y_val_pred = logreg.predict(X_val)\n",
    "\n",
    "y_train_preds = logreg.predict(X_train)\n",
    "y_val_preds = logreg.predict(X_val)\n",
    "\n",
    "accuracy = metrics.accuracy_score(y_train, y_train_preds, normalize=True)\n",
    "precision = metrics.precision_score(y_train, y_train_preds, pos_label=1)\n",
    "recall = metrics.recall_score(y_train, y_train_preds, pos_label=1)\n",
    "F1 = metrics.f1_score(y_train, y_train_preds)\n",
    "conf_mx = metrics.confusion_matrix(y_train, y_train_preds)\n",
    "print(\"Métricas del clasificador evaluado sobre el conjunto de ENTRENAMIENTO\")\n",
    "print(\"Accuracy: \", accuracy)\n",
    "print(\"Precision: \", precision)\n",
    "print(\"Recall: \", recall)\n",
    "print(\"F1: \", F1)\n",
    "print(\"Matriz de Confusión: \")\n",
    "print(conf_mx)\n",
    "\n",
    "accuracy = metrics.accuracy_score(y_val, y_val_preds, normalize=True)\n",
    "precision = metrics.precision_score(y_val, y_val_preds, pos_label=1)\n",
    "recall = metrics.recall_score(y_val, y_val_preds, pos_label=1)\n",
    "F1 = metrics.f1_score(y_val, y_val_preds)\n",
    "conf_mx = metrics.confusion_matrix(y_val, y_val_preds)\n",
    "\n",
    "print(\"Métricas del clasificador evaluado sobre el conjunto de EVALUACIÓN\")\n",
    "print(\"Accuracy: \", accuracy)\n",
    "print(\"Precision: \", precision)\n",
    "print(\"Recall: \", recall)\n",
    "print(\"F1: \", F1)\n",
    "print(\"Matriz de Confusión: \")\n",
    "print(conf_mx)"
   ]
  },
  {
   "cell_type": "markdown",
   "metadata": {},
   "source": [
    "## OTROS ALGORITMOS DE CLASIFICACION: PERCEPTRON, SGD"
   ]
  },
  {
   "cell_type": "code",
   "execution_count": 71,
   "metadata": {},
   "outputs": [],
   "source": [
    "from sklearn.linear_model import LinearRegression, LogisticRegression, Perceptron, Ridge, SGDClassifier\n",
    "from sklearn.metrics import accuracy_score, confusion_matrix, mean_squared_error\n",
    "from sklearn import metrics\n",
    "from sklearn.model_selection import GridSearchCV\n"
   ]
  },
  {
   "cell_type": "code",
   "execution_count": 72,
   "metadata": {},
   "outputs": [
    {
     "name": "stdout",
     "output_type": "stream",
     "text": [
      "(2707, 59)\n"
     ]
    },
    {
     "data": {
      "text/plain": [
       "Index(['nombre_carrera', 'sexo', 'obra_social', 'madre_trabajo', 'madre_vive',\n",
       "       'padre_trabajo', 'padre_vive', 'trabajo', 'horas_sem_trabajo',\n",
       "       'padre_ult_est_curs', 'madre_ult_est_curs', 'nota_matematica',\n",
       "       'matcursprisem', 'cantmataprob_al_21-10-2017', 'dep_practica',\n",
       "       'idioma_ingles', 'idioma_franc', 'idioma_portu', 'idioma_itali',\n",
       "       'idioma_aleman', 'estudios_padre', 'estudios_madre', 'estudios_padre_s',\n",
       "       'estudios_madre_s', 'niv_est_madre_0', 'niv_est_madre_1',\n",
       "       'niv_est_madre_2', 'niv_est_madre_3', 'niv_est_madre_4',\n",
       "       'niv_est_padre_0', 'niv_est_padre_1', 'niv_est_padre_2',\n",
       "       'niv_est_padre_3', 'niv_est_padre_4', 'alm_NoTr_B', 'alm_NoTr_NoB',\n",
       "       'alm_Tr', 'madre_Desconoce', 'madre_NoTr_B', 'madre_NoTr_NoB',\n",
       "       'madre_Tr', 'padre_Desconoce', 'padre_NoTr_B', 'padre_NoTr_NoB',\n",
       "       'padre_Tr', 'OS_sin', 'OS_voluntario', 'OS_univ', 'OS_familiar',\n",
       "       'OS_trabajo', 'alm_35 o mas horas', 'alm_Hasta 10 horas',\n",
       "       'alm_Mas de 10 y hasta 20 horas', 'alm_Mas de 20 y menos de 35 horas',\n",
       "       'cod_carrera', 'otros_idms', 'niv_ingles_0', 'niv_ingles_1',\n",
       "       'niv_ingles_2'],\n",
       "      dtype='object')"
      ]
     },
     "execution_count": 72,
     "metadata": {},
     "output_type": "execute_result"
    }
   ],
   "source": [
    "datos_ingresantes = datos_null\n",
    "print(datos_ingresantes.shape)\n",
    "\n",
    "dic_columnas = {'alm_No trabajó y buscó trabajo en algún momento de los últimos 30 días': 'alm_NoTr_B',\n",
    "'alm_No trabajó y no buscó trabajo': 'alm_NoTr_NoB',\n",
    "'alm_Trabajó al menos una hora': 'alm_Tr',\n",
    "'madre_No trabajó y buscó trabajo en algún momento de los últimos 30 días': 'madre_NoTr_B',\n",
    "'madre_No trabajó y no buscó trabajo': 'madre_NoTr_NoB',\n",
    "'madre_Trabajó al menos una hora': 'madre_Tr',\n",
    "'padre_No trabajó y buscó trabajo en algún momento de los últimos 30 días': 'padre_NoTr_B',\n",
    "'padre_No trabajó y no buscó trabajo': 'padre_NoTr_NoB',\n",
    "'padre_Trabajó al menos una hora': 'padre_Tr',\n",
    "'Carece de Obra Social' : 'OS_sin',\n",
    "'Como afiliado voluntario': 'OS_voluntario',\n",
    "'Otorgada por la universidad': 'OS_univ',\n",
    "'Por ser familiar a cargo': 'OS_familiar',\n",
    "'Por su trabajo':  'OS_trabajo'}\n",
    "\n",
    "datos_ingresantes.rename(columns=dic_columnas, inplace=True)\n",
    "datos_ingresantes.columns"
   ]
  },
  {
   "cell_type": "markdown",
   "metadata": {},
   "source": [
    "Vamos a usar un 80% de los datos para entrenamiento y un 20% para validación."
   ]
  },
  {
   "cell_type": "code",
   "execution_count": 73,
   "metadata": {},
   "outputs": [],
   "source": [
    "train_set = datos_ingresantes.sample(frac=0.8, random_state=0)\n",
    "test_set = datos_ingresantes.drop(train_set.index)"
   ]
  },
  {
   "cell_type": "code",
   "execution_count": 74,
   "metadata": {},
   "outputs": [],
   "source": [
    "#data = ['estudios_madre', 'estudios_padre','alm_No trabajó y buscó trabajo en algún momento de los últimos 30 días',\n",
    "#       'alm_No trabajó y no buscó trabajo', 'alm_Trabajó al menos una hora','otros_idms','idioma_ingles']\n",
    "\n",
    "\n",
    "def sel_datos(train_set, test_set, data):\n",
    "    X_train = train_set[data]\n",
    "    X_val = test_set[data]\n",
    "\n",
    "    y_train = train_set['nota_matematica']\n",
    "    y_val = test_set['nota_matematica']\n",
    "\n",
    "    feature_map = {feature: idx for idx, feature in enumerate(datos_ingresantes.columns)}\n",
    "    return(X_train, y_train, X_val, y_val)"
   ]
  },
  {
   "cell_type": "code",
   "execution_count": 75,
   "metadata": {},
   "outputs": [],
   "source": [
    "def cperceptron(X_train, y_train, X_val, y_val):\n",
    "    penalty = 'l2' # TODO: Tipo de regularización: l1 (valor absoluto), l2 (cuadrados), elasticnet (l1 + l2).\n",
    "    alpha = 0.1\n",
    "    # TODO: Parámetro de regularización. También denominado como parámetro `lambda`.\n",
    "    max_iter = 100\n",
    "    # TODO: Cantidad máxima de iteraciones del algoritmo\n",
    "\n",
    "    model = Perceptron(penalty=penalty, alpha=alpha, max_iter=max_iter)\n",
    "    model.fit(X_train, y_train)\n",
    "\n",
    "    # Evaluamos el desempeño del clasificador utilizando la exactitud (accuracy) sobre el conjunto\n",
    "    # de datos de entrenamiento (X_train, y_train) y lo comparamos con el de validación (X_val, y_val)\n",
    "    # La exactitud toma valor en el rango [0, 1] donde más alto es mejor\n",
    "    print('Exactitud para entrenamiento: %.2f' %  accuracy_score(y_train, model.predict(X_train)))\n",
    "    print('Exactitud para validación: %.2f' % accuracy_score(y_val, model.predict(X_val)))"
   ]
  },
  {
   "cell_type": "code",
   "execution_count": 76,
   "metadata": {},
   "outputs": [
    {
     "name": "stdout",
     "output_type": "stream",
     "text": [
      "Exactitud para entrenamiento: 0.61\n",
      "Exactitud para validación: 0.61\n"
     ]
    }
   ],
   "source": [
    "data = ['estudios_madre', 'estudios_padre','alm_NoTr_B', 'alm_NoTr_NoB', 'alm_Tr',\n",
    "        'otros_idms','idioma_ingles']\n",
    "X_train, y_train, X_val, y_val = sel_datos(train_set, test_set, data)\n",
    "cperceptron(X_train, y_train, X_val, y_val)"
   ]
  },
  {
   "cell_type": "markdown",
   "metadata": {},
   "source": [
    "Usamos el conjunto de variables que se usaron para regresión logística"
   ]
  },
  {
   "cell_type": "code",
   "execution_count": 77,
   "metadata": {},
   "outputs": [
    {
     "name": "stdout",
     "output_type": "stream",
     "text": [
      "Exactitud para entrenamiento: 0.60\n",
      "Exactitud para validación: 0.61\n"
     ]
    }
   ],
   "source": [
    "data_l = ['alm_Tr' , 'alm_NoTr_B', \n",
    "                   'madre_vive', 'padre_vive',\n",
    "                   'niv_est_madre_0', 'niv_est_madre_2','niv_est_madre_3', 'niv_est_madre_4',\n",
    "                   'niv_est_padre_0', 'niv_est_padre_2','niv_est_padre_3', 'niv_est_padre_4',\n",
    "                   'madre_Desconoce', 'madre_NoTr_B', 'madre_Tr',\n",
    "                   'padre_Desconoce', 'padre_NoTr_B', 'padre_Tr',\n",
    "                   'niv_ingles_1' ,'niv_ingles_2', \n",
    "                   'OS_sin', 'OS_voluntario', 'OS_univ',\n",
    "                   'OS_trabajo' ]\n",
    "X_train_l, y_train_l, X_val_l, y_val_l = sel_datos(train_set, test_set, data_l)\n",
    "cperceptron(X_train_l, y_train_l, X_val_l, y_val_l)"
   ]
  },
  {
   "cell_type": "markdown",
   "metadata": {},
   "source": [
    "Utilizando solamente los estudios del padre y madre, no obtenemos muy buena presicion en la prediccion. Vamos a considerar \n",
    "cambiar el clasificador, y ademas agregar atributos"
   ]
  },
  {
   "cell_type": "code",
   "execution_count": 78,
   "metadata": {},
   "outputs": [],
   "source": [
    "def mod_sgd(model, X_train, y_train, X_val, y_val ):\n",
    "    #model = SGDClassifier(random_state=0)\n",
    "    model.fit(X_train, y_train)\n",
    "\n",
    "    preds = model.predict(X_train)\n",
    "    accuracy = metrics.accuracy_score(y_train, preds, normalize=True)\n",
    "    precision = metrics.precision_score(y_train, preds, pos_label=1)\n",
    "    recall = metrics.recall_score(y_train, preds, pos_label=1)\n",
    "    F1 = metrics.f1_score(y_train, preds)\n",
    "    conf_mx = metrics.confusion_matrix(y_train, preds)\n",
    "    print(\"Métricas del clasificador evaluado sobre el conjunto de ENTRENAMIENTO\")\n",
    "    print(\"Accuracy: \", accuracy)\n",
    "    print(\"Precision: \", precision)\n",
    "    print(\"Recall: \", recall)\n",
    "    print(\"F1: \", F1)\n",
    "    print(\"Matriz de Confusión: \")\n",
    "    print(conf_mx)\n",
    "\n",
    "    preds = model.predict(X_val)\n",
    "    accuracy = metrics.accuracy_score(y_val, preds, normalize=True)\n",
    "    precision = metrics.precision_score(y_val, preds, pos_label=1)\n",
    "    recall = metrics.recall_score(y_val, preds, pos_label=1)\n",
    "    F1 = metrics.f1_score(y_val, preds)\n",
    "    conf_mx = metrics.confusion_matrix(y_val, preds)\n",
    "\n",
    "    print(\"Métricas del clasificador evaluado sobre el conjunto de EVALUACIÓN\")\n",
    "    print(\"Accuracy: \", accuracy)\n",
    "    print(\"Precision: \", precision)\n",
    "    print(\"Recall: \", recall)\n",
    "    print(\"F1: \", F1)\n",
    "    print(\"Matriz de Confusión: \")\n",
    "    print(conf_mx)\n",
    "    model.get_params()"
   ]
  },
  {
   "cell_type": "code",
   "execution_count": 79,
   "metadata": {},
   "outputs": [
    {
     "name": "stdout",
     "output_type": "stream",
     "text": [
      "Métricas del clasificador evaluado sobre el conjunto de ENTRENAMIENTO\n",
      "Accuracy:  0.669898430286242\n",
      "Precision:  0.6850793650793651\n",
      "Recall:  0.8312788906009245\n",
      "F1:  0.751131221719457\n",
      "Matriz de Confusión: \n",
      "[[ 372  496]\n",
      " [ 219 1079]]\n",
      "Métricas del clasificador evaluado sobre el conjunto de EVALUACIÓN\n",
      "Accuracy:  0.6746765249537893\n",
      "Precision:  0.7021276595744681\n",
      "Recall:  0.8048780487804879\n",
      "F1:  0.7500000000000001\n",
      "Matriz de Confusión: \n",
      "[[101 112]\n",
      " [ 64 264]]\n"
     ]
    }
   ],
   "source": [
    "X_train, y_train, X_val, y_val = sel_datos(train_set, test_set, data)\n",
    "mod_sgd(SGDClassifier(random_state=0), X_train, y_train, X_val, y_val)"
   ]
  },
  {
   "cell_type": "code",
   "execution_count": 80,
   "metadata": {},
   "outputs": [
    {
     "name": "stdout",
     "output_type": "stream",
     "text": [
      "Métricas del clasificador evaluado sobre el conjunto de ENTRENAMIENTO\n",
      "Accuracy:  0.6588180978762697\n",
      "Precision:  0.7533998186763372\n",
      "Recall:  0.6402157164869029\n",
      "F1:  0.6922115785089547\n",
      "Matriz de Confusión: \n",
      "[[596 272]\n",
      " [467 831]]\n",
      "Métricas del clasificador evaluado sobre el conjunto de EVALUACIÓN\n",
      "Accuracy:  0.6414048059149723\n",
      "Precision:  0.75\n",
      "Recall:  0.6128048780487805\n",
      "F1:  0.674496644295302\n",
      "Matriz de Confusión: \n",
      "[[146  67]\n",
      " [127 201]]\n"
     ]
    }
   ],
   "source": [
    "# Conjunto de datos usados en la regresión logística\n",
    "X_train_l, y_train_l, X_val_l, y_val_l = sel_datos(train_set, test_set, data_l)\n",
    "mod_sgd(SGDClassifier(random_state=0), X_train_l, y_train_l, X_val_l, y_val_l)"
   ]
  },
  {
   "cell_type": "markdown",
   "metadata": {},
   "source": [
    "Las preguntas que nos hicimos y que nos podemos hacer, son qué tanto influyen ciertos atributos si queremos\n",
    "predecir el rendimiento academico de un estudiante (medido en la nota de matematica).\n",
    "Hay preguntas que no podriamos contestar con las herramientas presentadas en el curso introductorio a machine learning, \n",
    "como por ejemplo preguntas sobre si hay grupos de estudiantes con similares caracteristicas. \n",
    "Tampoco tiene mucho sentido intentar predecir funciones sobre estos datos, ya que no tenemos variables\n",
    "verdaderamente continuas.\n",
    "Hemos decidido limitarnos a tomar la variable binaria aprobado o desaprobado en matematica como nuestro objetivo\n",
    "de prediccion, e intentar clasificar lo mejor posible a los estudiantes, probando distintos conjuntos de datos como\n",
    "features para entrenar el modelo."
   ]
  },
  {
   "cell_type": "code",
   "execution_count": 81,
   "metadata": {},
   "outputs": [
    {
     "name": "stdout",
     "output_type": "stream",
     "text": [
      "# Tuning hyper-parameters for accuracy\n",
      "\n",
      "Best parameters set found on development set:\n",
      "\n",
      "{'alpha': 0.1, 'epsilon': 0.1, 'eta0': 0.15, 'l1_ratio': 0.01, 'learning_rate': 'optimal', 'loss': 'log', 'max_iter': 1000, 'penalty': 'none', 'random_state': 0, 'tol': 0.001}\n",
      "\n"
     ]
    },
    {
     "name": "stderr",
     "output_type": "stream",
     "text": [
      "/home/lucia/anaconda3/envs/diplodatos/lib/python3.7/site-packages/sklearn/model_selection/_search.py:813: DeprecationWarning: The default of the `iid` parameter will change from True to False in version 0.22 and will be removed in 0.24. This will change numeric results when test-set sizes are unequal.\n",
      "  DeprecationWarning)\n"
     ]
    }
   ],
   "source": [
    "params = {\n",
    "          'random_state': [0],\n",
    "          'alpha': [0.001, 0.01, 0.1],\n",
    "          'eta0': [0.15],\n",
    "          'max_iter': [1000,2000,3000],\n",
    "          'tol': [1e-3],\n",
    "          'epsilon': [0.1, 0.01, 0.001],\n",
    "          'l1_ratio': [0.01,0.15, 0.5, 0.99],\n",
    "          'learning_rate': ['constant', 'optimal'],\n",
    "          'penalty': ['none', 'l1','l2'],\n",
    "          'loss': ['hinge', 'log','perceptron']\n",
    "         }\n",
    "\n",
    "scores = ['accuracy']\n",
    "\n",
    "for score in scores:\n",
    "    print(\"# Tuning hyper-parameters for %s\" % score)\n",
    "    print()\n",
    "\n",
    "    clf = GridSearchCV(SGDClassifier(), params, cv=5,\n",
    "                       scoring=score)\n",
    "    clf.fit(X_train, y_train)\n",
    "\n",
    "    print(\"Best parameters set found on development set:\")\n",
    "    print()\n",
    "    print(clf.best_params_)\n",
    "    print()\n",
    "    "
   ]
  },
  {
   "cell_type": "code",
   "execution_count": 82,
   "metadata": {},
   "outputs": [
    {
     "ename": "NameError",
     "evalue": "name 'gridsearch' is not defined",
     "output_type": "error",
     "traceback": [
      "\u001b[0;31m---------------------------------------------------------------------------\u001b[0m",
      "\u001b[0;31mNameError\u001b[0m                                 Traceback (most recent call last)",
      "\u001b[0;32m<ipython-input-82-835a5d7c1f8e>\u001b[0m in \u001b[0;36m<module>\u001b[0;34m\u001b[0m\n\u001b[0;32m----> 1\u001b[0;31m \u001b[0mdic_params\u001b[0m \u001b[0;34m=\u001b[0m \u001b[0mgridsearch\u001b[0m\u001b[0;34m(\u001b[0m\u001b[0mX_train\u001b[0m\u001b[0;34m,\u001b[0m \u001b[0my_train\u001b[0m\u001b[0;34m)\u001b[0m\u001b[0;34m\u001b[0m\u001b[0;34m\u001b[0m\u001b[0m\n\u001b[0m\u001b[1;32m      2\u001b[0m \u001b[0mbest_clf\u001b[0m \u001b[0;34m=\u001b[0m \u001b[0mSGDClassifier\u001b[0m\u001b[0;34m(\u001b[0m\u001b[0;34m**\u001b[0m\u001b[0mdic_params\u001b[0m\u001b[0;34m)\u001b[0m\u001b[0;34m\u001b[0m\u001b[0;34m\u001b[0m\u001b[0m\n\u001b[1;32m      3\u001b[0m \u001b[0mmod_sgd\u001b[0m\u001b[0;34m(\u001b[0m\u001b[0mbest_clf\u001b[0m\u001b[0;34m,\u001b[0m \u001b[0mX_train\u001b[0m\u001b[0;34m,\u001b[0m \u001b[0my_train\u001b[0m\u001b[0;34m,\u001b[0m \u001b[0mX_val\u001b[0m\u001b[0;34m,\u001b[0m \u001b[0my_val\u001b[0m\u001b[0;34m)\u001b[0m\u001b[0;34m\u001b[0m\u001b[0;34m\u001b[0m\u001b[0m\n",
      "\u001b[0;31mNameError\u001b[0m: name 'gridsearch' is not defined"
     ]
    }
   ],
   "source": [
    "dic_params = gridsearch(X_train, y_train)\n",
    "best_clf = SGDClassifier(**dic_params)\n",
    "mod_sgd(best_clf, X_train, y_train, X_val, y_val)"
   ]
  },
  {
   "cell_type": "code",
   "execution_count": 568,
   "metadata": {},
   "outputs": [
    {
     "name": "stdout",
     "output_type": "stream",
     "text": [
      "# Tuning hyper-parameters for accuracy\n",
      "\n",
      "Best parameters set found on development set:\n",
      "\n",
      "{'alpha': 0.001, 'epsilon': 0.1, 'eta0': 0.15, 'l1_ratio': 0.01, 'learning_rate': 'optimal', 'loss': 'log', 'max_iter': 100, 'penalty': 'l2', 'random_state': 0, 'tol': 0.001}\n",
      "<class 'dict'>\n",
      "\n",
      "Métricas del clasificador evaluado sobre el conjunto de ENTRENAMIENTO\n",
      "Accuracy:  0.6943674976915974\n",
      "Precision:  0.7022900763358778\n",
      "Recall:  0.8505392912172574\n",
      "F1:  0.7693379790940768\n",
      "Matriz de Confusión: \n",
      "[[ 400  468]\n",
      " [ 194 1104]]\n",
      "Métricas del clasificador evaluado sobre el conjunto de EVALUACIÓN\n",
      "Accuracy:  0.6820702402957486\n",
      "Precision:  0.6989795918367347\n",
      "Recall:  0.8353658536585366\n",
      "F1:  0.761111111111111\n",
      "Matriz de Confusión: \n",
      "[[ 95 118]\n",
      " [ 54 274]]\n"
     ]
    }
   ],
   "source": [
    "# Conjunto de datos usados en la regresión logística\n",
    "dic_params = gridsearch(X_train_l, y_train_l)\n",
    "best_clf = SGDClassifier(**dic_params)\n",
    "mod_sgd(best_clf, X_train_l, y_train_l, X_val_l, y_val_l)"
   ]
  }
 ],
 "metadata": {
  "kernelspec": {
   "display_name": "Python 3",
   "language": "python",
   "name": "python3"
  },
  "language_info": {
   "codemirror_mode": {
    "name": "ipython",
    "version": 3
   },
   "file_extension": ".py",
   "mimetype": "text/x-python",
   "name": "python",
   "nbconvert_exporter": "python",
   "pygments_lexer": "ipython3",
   "version": "3.7.6"
  }
 },
 "nbformat": 4,
 "nbformat_minor": 4
}
